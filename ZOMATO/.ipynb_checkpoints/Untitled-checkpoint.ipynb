{
 "cells": [
  {
   "cell_type": "code",
   "execution_count": 421,
   "metadata": {},
   "outputs": [],
   "source": [
    "import pandas as pd\n",
    "import matplotlib.pyplot as plt\n",
    "import numpy as np\n",
    "import re"
   ]
  },
  {
   "cell_type": "code",
   "execution_count": 422,
   "metadata": {},
   "outputs": [],
   "source": [
    "data=pd.read_excel(\"zomato_train.xlsx\")"
   ]
  },
  {
   "cell_type": "code",
   "execution_count": 423,
   "metadata": {},
   "outputs": [
    {
     "data": {
      "text/html": [
       "<div>\n",
       "<style scoped>\n",
       "    .dataframe tbody tr th:only-of-type {\n",
       "        vertical-align: middle;\n",
       "    }\n",
       "\n",
       "    .dataframe tbody tr th {\n",
       "        vertical-align: top;\n",
       "    }\n",
       "\n",
       "    .dataframe thead th {\n",
       "        text-align: right;\n",
       "    }\n",
       "</style>\n",
       "<table border=\"1\" class=\"dataframe\">\n",
       "  <thead>\n",
       "    <tr style=\"text-align: right;\">\n",
       "      <th></th>\n",
       "      <th>url</th>\n",
       "      <th>address</th>\n",
       "      <th>name</th>\n",
       "      <th>online_order</th>\n",
       "      <th>book_table</th>\n",
       "      <th>votes</th>\n",
       "      <th>phone</th>\n",
       "      <th>location</th>\n",
       "      <th>rest_type</th>\n",
       "      <th>dish_liked</th>\n",
       "      <th>cuisines</th>\n",
       "      <th>approx_cost(for two people)</th>\n",
       "      <th>reviews_list</th>\n",
       "      <th>menu_item</th>\n",
       "      <th>listed_in(type)</th>\n",
       "      <th>listed_in(city)</th>\n",
       "      <th>rates</th>\n",
       "    </tr>\n",
       "  </thead>\n",
       "  <tbody>\n",
       "    <tr>\n",
       "      <td>0</td>\n",
       "      <td>https://www.zomato.com/bangalore/al-swaad-take...</td>\n",
       "      <td>18, Masjid Street, Opp Akbari Masjid Neelasand...</td>\n",
       "      <td>Al Swaad Take Away</td>\n",
       "      <td>Yes</td>\n",
       "      <td>No</td>\n",
       "      <td>13</td>\n",
       "      <td>+91 7019942388\\n+91 9902335220</td>\n",
       "      <td>Richmond Road</td>\n",
       "      <td>Quick Bites</td>\n",
       "      <td>NaN</td>\n",
       "      <td>North Indian, South Indian, Arabian</td>\n",
       "      <td>350</td>\n",
       "      <td>[('Rated 1.0', 'RATED\\n  If U need reasonable ...</td>\n",
       "      <td>['Beef Seekh Kabab', 'Beef BBQ Chops', 'Beef M...</td>\n",
       "      <td>Delivery</td>\n",
       "      <td>Residency Road</td>\n",
       "      <td>3.1</td>\n",
       "    </tr>\n",
       "    <tr>\n",
       "      <td>1</td>\n",
       "      <td>https://www.zomato.com/bangalore/the-boozy-gri...</td>\n",
       "      <td>2nd Floor, 1st A Cross Road, Jyothi Nivas Coll...</td>\n",
       "      <td>The Boozy Griffin</td>\n",
       "      <td>No</td>\n",
       "      <td>Yes</td>\n",
       "      <td>5015</td>\n",
       "      <td>080 33512954</td>\n",
       "      <td>Koramangala 5th Block</td>\n",
       "      <td>Casual Dining, Pub</td>\n",
       "      <td>Cocktails, Craft Beer, Salads, Devils Chicken,...</td>\n",
       "      <td>European, Continental</td>\n",
       "      <td>1,800</td>\n",
       "      <td>[('Rated 5.0', 'RATED\\n  Really great ambience...</td>\n",
       "      <td>[]</td>\n",
       "      <td>Dine-out</td>\n",
       "      <td>Koramangala 6th Block</td>\n",
       "      <td>4.6</td>\n",
       "    </tr>\n",
       "    <tr>\n",
       "      <td>2</td>\n",
       "      <td>https://www.zomato.com/bangalore/barkat-btm-ba...</td>\n",
       "      <td>28th, 8th Cross, Maruthi Nagar, Madiwala, BTM,...</td>\n",
       "      <td>Barkat</td>\n",
       "      <td>No</td>\n",
       "      <td>No</td>\n",
       "      <td>6</td>\n",
       "      <td>+91 9019670836</td>\n",
       "      <td>BTM</td>\n",
       "      <td>Quick Bites</td>\n",
       "      <td>NaN</td>\n",
       "      <td>Kerala</td>\n",
       "      <td>250</td>\n",
       "      <td>[]</td>\n",
       "      <td>[]</td>\n",
       "      <td>Dine-out</td>\n",
       "      <td>Koramangala 4th Block</td>\n",
       "      <td>3.4</td>\n",
       "    </tr>\n",
       "    <tr>\n",
       "      <td>3</td>\n",
       "      <td>https://www.zomato.com/bangalore/sriracha-lave...</td>\n",
       "      <td>204, 2nd Level, 4th Floor, Comet Block, UB Cit...</td>\n",
       "      <td>Sriracha</td>\n",
       "      <td>No</td>\n",
       "      <td>No</td>\n",
       "      <td>699</td>\n",
       "      <td>+91 8041755366\\n+91 7022422473</td>\n",
       "      <td>Lavelle Road</td>\n",
       "      <td>Casual Dining</td>\n",
       "      <td>Noodles, Laksa, Cocktails, Dumplings, Sangria,...</td>\n",
       "      <td>Thai, Chinese, Indonesian, Asian, Momos</td>\n",
       "      <td>1,500</td>\n",
       "      <td>[('Rated 3.0', 'RATED\\n  Another restaurant in...</td>\n",
       "      <td>[]</td>\n",
       "      <td>Dine-out</td>\n",
       "      <td>Residency Road</td>\n",
       "      <td>4.3</td>\n",
       "    </tr>\n",
       "    <tr>\n",
       "      <td>4</td>\n",
       "      <td>https://www.zomato.com/bangalore/sri-ganesh-ju...</td>\n",
       "      <td>513, Opposite Ganesh Temple, Koramangala 8th B...</td>\n",
       "      <td>Sri Ganesh Juice Junction</td>\n",
       "      <td>Yes</td>\n",
       "      <td>No</td>\n",
       "      <td>129</td>\n",
       "      <td>+91 9845623889</td>\n",
       "      <td>Koramangala 8th Block</td>\n",
       "      <td>Beverage Shop</td>\n",
       "      <td>NaN</td>\n",
       "      <td>Juices, Fast Food</td>\n",
       "      <td>150</td>\n",
       "      <td>[('Rated 4.0', 'RATED\\n  Good cafe with most v...</td>\n",
       "      <td>['Dry Fruit Milkshake', 'Wheat Grass with Wate...</td>\n",
       "      <td>Delivery</td>\n",
       "      <td>Koramangala 6th Block</td>\n",
       "      <td>3.7</td>\n",
       "    </tr>\n",
       "  </tbody>\n",
       "</table>\n",
       "</div>"
      ],
      "text/plain": [
       "                                                 url  \\\n",
       "0  https://www.zomato.com/bangalore/al-swaad-take...   \n",
       "1  https://www.zomato.com/bangalore/the-boozy-gri...   \n",
       "2  https://www.zomato.com/bangalore/barkat-btm-ba...   \n",
       "3  https://www.zomato.com/bangalore/sriracha-lave...   \n",
       "4  https://www.zomato.com/bangalore/sri-ganesh-ju...   \n",
       "\n",
       "                                             address  \\\n",
       "0  18, Masjid Street, Opp Akbari Masjid Neelasand...   \n",
       "1  2nd Floor, 1st A Cross Road, Jyothi Nivas Coll...   \n",
       "2  28th, 8th Cross, Maruthi Nagar, Madiwala, BTM,...   \n",
       "3  204, 2nd Level, 4th Floor, Comet Block, UB Cit...   \n",
       "4  513, Opposite Ganesh Temple, Koramangala 8th B...   \n",
       "\n",
       "                        name online_order book_table  votes  \\\n",
       "0         Al Swaad Take Away          Yes         No     13   \n",
       "1          The Boozy Griffin           No        Yes   5015   \n",
       "2                     Barkat           No         No      6   \n",
       "3                   Sriracha           No         No    699   \n",
       "4  Sri Ganesh Juice Junction          Yes         No    129   \n",
       "\n",
       "                            phone               location           rest_type  \\\n",
       "0  +91 7019942388\\n+91 9902335220          Richmond Road         Quick Bites   \n",
       "1                    080 33512954  Koramangala 5th Block  Casual Dining, Pub   \n",
       "2                  +91 9019670836                    BTM         Quick Bites   \n",
       "3  +91 8041755366\\n+91 7022422473           Lavelle Road       Casual Dining   \n",
       "4                  +91 9845623889  Koramangala 8th Block       Beverage Shop   \n",
       "\n",
       "                                          dish_liked  \\\n",
       "0                                                NaN   \n",
       "1  Cocktails, Craft Beer, Salads, Devils Chicken,...   \n",
       "2                                                NaN   \n",
       "3  Noodles, Laksa, Cocktails, Dumplings, Sangria,...   \n",
       "4                                                NaN   \n",
       "\n",
       "                                  cuisines approx_cost(for two people)  \\\n",
       "0      North Indian, South Indian, Arabian                         350   \n",
       "1                    European, Continental                       1,800   \n",
       "2                                   Kerala                         250   \n",
       "3  Thai, Chinese, Indonesian, Asian, Momos                       1,500   \n",
       "4                        Juices, Fast Food                         150   \n",
       "\n",
       "                                        reviews_list  \\\n",
       "0  [('Rated 1.0', 'RATED\\n  If U need reasonable ...   \n",
       "1  [('Rated 5.0', 'RATED\\n  Really great ambience...   \n",
       "2                                                 []   \n",
       "3  [('Rated 3.0', 'RATED\\n  Another restaurant in...   \n",
       "4  [('Rated 4.0', 'RATED\\n  Good cafe with most v...   \n",
       "\n",
       "                                           menu_item listed_in(type)  \\\n",
       "0  ['Beef Seekh Kabab', 'Beef BBQ Chops', 'Beef M...        Delivery   \n",
       "1                                                 []        Dine-out   \n",
       "2                                                 []        Dine-out   \n",
       "3                                                 []        Dine-out   \n",
       "4  ['Dry Fruit Milkshake', 'Wheat Grass with Wate...        Delivery   \n",
       "\n",
       "         listed_in(city) rates  \n",
       "0         Residency Road  3.1   \n",
       "1  Koramangala 6th Block  4.6   \n",
       "2  Koramangala 4th Block  3.4   \n",
       "3         Residency Road  4.3   \n",
       "4  Koramangala 6th Block  3.7   "
      ]
     },
     "execution_count": 423,
     "metadata": {},
     "output_type": "execute_result"
    }
   ],
   "source": [
    " data.head()"
   ]
  },
  {
   "cell_type": "code",
   "execution_count": 424,
   "metadata": {},
   "outputs": [
    {
     "name": "stdout",
     "output_type": "stream",
     "text": [
      "['Residency Road' 'Koramangala 6th Block' 'Koramangala 4th Block' 'BTM'\n",
      " 'Sarjapur Road' 'Bannerghatta Road' 'MG Road' 'Indiranagar'\n",
      " 'Lavelle Road' 'Whitefield' 'Koramangala 7th Block' 'Bellandur'\n",
      " 'Brigade Road' 'Jayanagar' 'HSR' 'Old Airport Road' 'JP Nagar'\n",
      " 'Kammanahalli' 'Rajajinagar' 'Brookefield' 'New BEL Road' 'Basavanagudi'\n",
      " 'Frazer Town' 'Church Street' 'Kalyan Nagar' 'Malleshwaram'\n",
      " 'Marathahalli' 'Banashankari' 'Koramangala 5th Block' 'Electronic City']\n"
     ]
    },
    {
     "data": {
      "text/plain": [
       "0"
      ]
     },
     "execution_count": 424,
     "metadata": {},
     "output_type": "execute_result"
    }
   ],
   "source": [
    "print(data['listed_in(city)'].unique())\n",
    "data['listed_in(city)'].isna().sum()"
   ]
  },
  {
   "cell_type": "code",
   "execution_count": 63,
   "metadata": {
    "scrolled": true
   },
   "outputs": [
    {
     "name": "stdout",
     "output_type": "stream",
     "text": [
      "7\n"
     ]
    },
    {
     "data": {
      "text/plain": [
       "0"
      ]
     },
     "execution_count": 63,
     "metadata": {},
     "output_type": "execute_result"
    }
   ],
   "source": [
    "print(len(data['listed_in(type)'].unique()))\n",
    "data['listed_in(type)'].isna().sum()"
   ]
  },
  {
   "cell_type": "code",
   "execution_count": 64,
   "metadata": {},
   "outputs": [
    {
     "name": "stdout",
     "output_type": "stream",
     "text": [
      "2\n"
     ]
    },
    {
     "data": {
      "text/plain": [
       "0"
      ]
     },
     "execution_count": 64,
     "metadata": {},
     "output_type": "execute_result"
    }
   ],
   "source": [
    "print(len(data['online_order'].unique()))\n",
    "data['online_order'].isna().sum()"
   ]
  },
  {
   "cell_type": "code",
   "execution_count": 65,
   "metadata": {},
   "outputs": [
    {
     "name": "stdout",
     "output_type": "stream",
     "text": [
      "2\n"
     ]
    },
    {
     "data": {
      "text/plain": [
       "0"
      ]
     },
     "execution_count": 65,
     "metadata": {},
     "output_type": "execute_result"
    }
   ],
   "source": [
    "print(len(data['book_table'].unique()))\n",
    "data['book_table'].isna().sum()"
   ]
  },
  {
   "cell_type": "code",
   "execution_count": 67,
   "metadata": {},
   "outputs": [
    {
     "name": "stdout",
     "output_type": "stream",
     "text": [
      "94\n"
     ]
    },
    {
     "data": {
      "text/plain": [
       "15"
      ]
     },
     "execution_count": 67,
     "metadata": {},
     "output_type": "execute_result"
    }
   ],
   "source": [
    "print(len(data['location'].unique()))\n",
    "data['location'].isna().sum()"
   ]
  },
  {
   "cell_type": "code",
   "execution_count": 316,
   "metadata": {},
   "outputs": [],
   "source": [
    "data1=data.drop(columns=['url','address','name','phone','location','listed_in(city)'])"
   ]
  },
  {
   "cell_type": "code",
   "execution_count": 317,
   "metadata": {},
   "outputs": [
    {
     "data": {
      "text/html": [
       "<div>\n",
       "<style scoped>\n",
       "    .dataframe tbody tr th:only-of-type {\n",
       "        vertical-align: middle;\n",
       "    }\n",
       "\n",
       "    .dataframe tbody tr th {\n",
       "        vertical-align: top;\n",
       "    }\n",
       "\n",
       "    .dataframe thead th {\n",
       "        text-align: right;\n",
       "    }\n",
       "</style>\n",
       "<table border=\"1\" class=\"dataframe\">\n",
       "  <thead>\n",
       "    <tr style=\"text-align: right;\">\n",
       "      <th></th>\n",
       "      <th>online_order</th>\n",
       "      <th>book_table</th>\n",
       "      <th>votes</th>\n",
       "      <th>rest_type</th>\n",
       "      <th>dish_liked</th>\n",
       "      <th>cuisines</th>\n",
       "      <th>approx_cost(for two people)</th>\n",
       "      <th>reviews_list</th>\n",
       "      <th>menu_item</th>\n",
       "      <th>listed_in(type)</th>\n",
       "      <th>rates</th>\n",
       "      <th>review_ratings</th>\n",
       "    </tr>\n",
       "  </thead>\n",
       "  <tbody>\n",
       "    <tr>\n",
       "      <td>0</td>\n",
       "      <td>Yes</td>\n",
       "      <td>No</td>\n",
       "      <td>13</td>\n",
       "      <td>Quick Bites</td>\n",
       "      <td>NaN</td>\n",
       "      <td>North Indian, South Indian, Arabian</td>\n",
       "      <td>350</td>\n",
       "      <td>[('Rated 1.0', 'RATED\\n  If U need reasonable ...</td>\n",
       "      <td>['Beef Seekh Kabab', 'Beef BBQ Chops', 'Beef M...</td>\n",
       "      <td>Delivery</td>\n",
       "      <td>3.1</td>\n",
       "      <td>2.200000</td>\n",
       "    </tr>\n",
       "    <tr>\n",
       "      <td>1</td>\n",
       "      <td>No</td>\n",
       "      <td>Yes</td>\n",
       "      <td>5015</td>\n",
       "      <td>Casual Dining, Pub</td>\n",
       "      <td>Cocktails, Craft Beer, Salads, Devils Chicken,...</td>\n",
       "      <td>European, Continental</td>\n",
       "      <td>1,800</td>\n",
       "      <td>[('Rated 5.0', 'RATED\\n  Really great ambience...</td>\n",
       "      <td>[]</td>\n",
       "      <td>Dine-out</td>\n",
       "      <td>4.6</td>\n",
       "      <td>4.300000</td>\n",
       "    </tr>\n",
       "    <tr>\n",
       "      <td>2</td>\n",
       "      <td>No</td>\n",
       "      <td>No</td>\n",
       "      <td>6</td>\n",
       "      <td>Quick Bites</td>\n",
       "      <td>NaN</td>\n",
       "      <td>Kerala</td>\n",
       "      <td>250</td>\n",
       "      <td>[]</td>\n",
       "      <td>[]</td>\n",
       "      <td>Dine-out</td>\n",
       "      <td>3.4</td>\n",
       "      <td>NaN</td>\n",
       "    </tr>\n",
       "    <tr>\n",
       "      <td>3</td>\n",
       "      <td>No</td>\n",
       "      <td>No</td>\n",
       "      <td>699</td>\n",
       "      <td>Casual Dining</td>\n",
       "      <td>Noodles, Laksa, Cocktails, Dumplings, Sangria,...</td>\n",
       "      <td>Thai, Chinese, Indonesian, Asian, Momos</td>\n",
       "      <td>1,500</td>\n",
       "      <td>[('Rated 3.0', 'RATED\\n  Another restaurant in...</td>\n",
       "      <td>[]</td>\n",
       "      <td>Dine-out</td>\n",
       "      <td>4.3</td>\n",
       "      <td>3.764706</td>\n",
       "    </tr>\n",
       "    <tr>\n",
       "      <td>4</td>\n",
       "      <td>Yes</td>\n",
       "      <td>No</td>\n",
       "      <td>129</td>\n",
       "      <td>Beverage Shop</td>\n",
       "      <td>NaN</td>\n",
       "      <td>Juices, Fast Food</td>\n",
       "      <td>150</td>\n",
       "      <td>[('Rated 4.0', 'RATED\\n  Good cafe with most v...</td>\n",
       "      <td>['Dry Fruit Milkshake', 'Wheat Grass with Wate...</td>\n",
       "      <td>Delivery</td>\n",
       "      <td>3.7</td>\n",
       "      <td>2.250000</td>\n",
       "    </tr>\n",
       "  </tbody>\n",
       "</table>\n",
       "</div>"
      ],
      "text/plain": [
       "  online_order book_table  votes           rest_type  \\\n",
       "0          Yes         No     13         Quick Bites   \n",
       "1           No        Yes   5015  Casual Dining, Pub   \n",
       "2           No         No      6         Quick Bites   \n",
       "3           No         No    699       Casual Dining   \n",
       "4          Yes         No    129       Beverage Shop   \n",
       "\n",
       "                                          dish_liked  \\\n",
       "0                                                NaN   \n",
       "1  Cocktails, Craft Beer, Salads, Devils Chicken,...   \n",
       "2                                                NaN   \n",
       "3  Noodles, Laksa, Cocktails, Dumplings, Sangria,...   \n",
       "4                                                NaN   \n",
       "\n",
       "                                  cuisines approx_cost(for two people)  \\\n",
       "0      North Indian, South Indian, Arabian                         350   \n",
       "1                    European, Continental                       1,800   \n",
       "2                                   Kerala                         250   \n",
       "3  Thai, Chinese, Indonesian, Asian, Momos                       1,500   \n",
       "4                        Juices, Fast Food                         150   \n",
       "\n",
       "                                        reviews_list  \\\n",
       "0  [('Rated 1.0', 'RATED\\n  If U need reasonable ...   \n",
       "1  [('Rated 5.0', 'RATED\\n  Really great ambience...   \n",
       "2                                                 []   \n",
       "3  [('Rated 3.0', 'RATED\\n  Another restaurant in...   \n",
       "4  [('Rated 4.0', 'RATED\\n  Good cafe with most v...   \n",
       "\n",
       "                                           menu_item listed_in(type) rates  \\\n",
       "0  ['Beef Seekh Kabab', 'Beef BBQ Chops', 'Beef M...        Delivery  3.1    \n",
       "1                                                 []        Dine-out  4.6    \n",
       "2                                                 []        Dine-out  3.4    \n",
       "3                                                 []        Dine-out  4.3    \n",
       "4  ['Dry Fruit Milkshake', 'Wheat Grass with Wate...        Delivery  3.7    \n",
       "\n",
       "   review_ratings  \n",
       "0        2.200000  \n",
       "1        4.300000  \n",
       "2             NaN  \n",
       "3        3.764706  \n",
       "4        2.250000  "
      ]
     },
     "execution_count": 317,
     "metadata": {},
     "output_type": "execute_result"
    }
   ],
   "source": [
    "data1.head()"
   ]
  },
  {
   "cell_type": "code",
   "execution_count": 318,
   "metadata": {},
   "outputs": [],
   "source": [
    "from sklearn.preprocessing import LabelBinarizer\n",
    "from sklearn.preprocessing import LabelEncoder"
   ]
  },
  {
   "cell_type": "code",
   "execution_count": 319,
   "metadata": {},
   "outputs": [],
   "source": [
    "data1['online_order']=LabelBinarizer().fit_transform(data1.online_order)"
   ]
  },
  {
   "cell_type": "code",
   "execution_count": 320,
   "metadata": {},
   "outputs": [],
   "source": [
    "data1['book_table']=LabelBinarizer().fit_transform(data1.book_table)"
   ]
  },
  {
   "cell_type": "code",
   "execution_count": 321,
   "metadata": {},
   "outputs": [],
   "source": [
    "data1['listed_in(type)']=LabelEncoder().fit_transform(data1['listed_in(type)'])"
   ]
  },
  {
   "cell_type": "code",
   "execution_count": 324,
   "metadata": {},
   "outputs": [
    {
     "data": {
      "text/plain": [
       "array([2, 4, 5, 3, 1, 6, 0], dtype=int64)"
      ]
     },
     "execution_count": 324,
     "metadata": {},
     "output_type": "execute_result"
    }
   ],
   "source": [
    "data1['listed_in(type)'].unique()"
   ]
  },
  {
   "cell_type": "code",
   "execution_count": 337,
   "metadata": {},
   "outputs": [
    {
     "data": {
      "text/html": [
       "<div>\n",
       "<style scoped>\n",
       "    .dataframe tbody tr th:only-of-type {\n",
       "        vertical-align: middle;\n",
       "    }\n",
       "\n",
       "    .dataframe tbody tr th {\n",
       "        vertical-align: top;\n",
       "    }\n",
       "\n",
       "    .dataframe thead th {\n",
       "        text-align: right;\n",
       "    }\n",
       "</style>\n",
       "<table border=\"1\" class=\"dataframe\">\n",
       "  <thead>\n",
       "    <tr style=\"text-align: right;\">\n",
       "      <th></th>\n",
       "      <th>online_order</th>\n",
       "      <th>book_table</th>\n",
       "      <th>votes</th>\n",
       "      <th>rest_type</th>\n",
       "      <th>cuisines</th>\n",
       "      <th>approx_cost(for two people)</th>\n",
       "      <th>listed_in(type)</th>\n",
       "      <th>rates</th>\n",
       "      <th>review_ratings</th>\n",
       "    </tr>\n",
       "  </thead>\n",
       "  <tbody>\n",
       "    <tr>\n",
       "      <td>0</td>\n",
       "      <td>1</td>\n",
       "      <td>0</td>\n",
       "      <td>13</td>\n",
       "      <td>Quick Bites</td>\n",
       "      <td>North Indian, South Indian, Arabian</td>\n",
       "      <td>350</td>\n",
       "      <td>2</td>\n",
       "      <td>3.1</td>\n",
       "      <td>2.200000</td>\n",
       "    </tr>\n",
       "    <tr>\n",
       "      <td>1</td>\n",
       "      <td>0</td>\n",
       "      <td>1</td>\n",
       "      <td>5015</td>\n",
       "      <td>Casual Dining, Pub</td>\n",
       "      <td>European, Continental</td>\n",
       "      <td>1,800</td>\n",
       "      <td>4</td>\n",
       "      <td>4.6</td>\n",
       "      <td>4.300000</td>\n",
       "    </tr>\n",
       "    <tr>\n",
       "      <td>2</td>\n",
       "      <td>0</td>\n",
       "      <td>0</td>\n",
       "      <td>6</td>\n",
       "      <td>Quick Bites</td>\n",
       "      <td>Kerala</td>\n",
       "      <td>250</td>\n",
       "      <td>4</td>\n",
       "      <td>3.4</td>\n",
       "      <td>NaN</td>\n",
       "    </tr>\n",
       "    <tr>\n",
       "      <td>3</td>\n",
       "      <td>0</td>\n",
       "      <td>0</td>\n",
       "      <td>699</td>\n",
       "      <td>Casual Dining</td>\n",
       "      <td>Thai, Chinese, Indonesian, Asian, Momos</td>\n",
       "      <td>1,500</td>\n",
       "      <td>4</td>\n",
       "      <td>4.3</td>\n",
       "      <td>3.764706</td>\n",
       "    </tr>\n",
       "    <tr>\n",
       "      <td>4</td>\n",
       "      <td>1</td>\n",
       "      <td>0</td>\n",
       "      <td>129</td>\n",
       "      <td>Beverage Shop</td>\n",
       "      <td>Juices, Fast Food</td>\n",
       "      <td>150</td>\n",
       "      <td>2</td>\n",
       "      <td>3.7</td>\n",
       "      <td>2.250000</td>\n",
       "    </tr>\n",
       "  </tbody>\n",
       "</table>\n",
       "</div>"
      ],
      "text/plain": [
       "   online_order  book_table  votes           rest_type  \\\n",
       "0             1           0     13         Quick Bites   \n",
       "1             0           1   5015  Casual Dining, Pub   \n",
       "2             0           0      6         Quick Bites   \n",
       "3             0           0    699       Casual Dining   \n",
       "4             1           0    129       Beverage Shop   \n",
       "\n",
       "                                  cuisines approx_cost(for two people)  \\\n",
       "0      North Indian, South Indian, Arabian                         350   \n",
       "1                    European, Continental                       1,800   \n",
       "2                                   Kerala                         250   \n",
       "3  Thai, Chinese, Indonesian, Asian, Momos                       1,500   \n",
       "4                        Juices, Fast Food                         150   \n",
       "\n",
       "   listed_in(type) rates  review_ratings  \n",
       "0                2  3.1         2.200000  \n",
       "1                4  4.6         4.300000  \n",
       "2                4  3.4              NaN  \n",
       "3                4  4.3         3.764706  \n",
       "4                2  3.7         2.250000  "
      ]
     },
     "execution_count": 337,
     "metadata": {},
     "output_type": "execute_result"
    }
   ],
   "source": [
    "#data1=data1.drop('reviews_list',axis=1)\n",
    "#data1=data1.drop('dish_liked',axis=1)\n",
    "#data1=data1.drop('menu_item',axis=1)\n",
    "data1.head()"
   ]
  },
  {
   "cell_type": "code",
   "execution_count": null,
   "metadata": {},
   "outputs": [],
   "source": [
    "for i in data1['cuisines']:\n",
    "    "
   ]
  },
  {
   "cell_type": "code",
   "execution_count": 357,
   "metadata": {},
   "outputs": [],
   "source": [
    "c=[]\n",
    "for i in data['cuisines']:\n",
    "    if type(i) == float:\n",
    "        c.append('common')\n",
    "    else:\n",
    "        k=[]\n",
    "        for j in i.split(','):\n",
    "            j=j.lower().replace(' ','')\n",
    "            k.append(j)\n",
    "        c.append(k)"
   ]
  },
  {
   "cell_type": "code",
   "execution_count": 359,
   "metadata": {},
   "outputs": [],
   "source": [
    "data1['cuisines']=c"
   ]
  },
  {
   "cell_type": "code",
   "execution_count": 360,
   "metadata": {},
   "outputs": [
    {
     "data": {
      "text/html": [
       "<div>\n",
       "<style scoped>\n",
       "    .dataframe tbody tr th:only-of-type {\n",
       "        vertical-align: middle;\n",
       "    }\n",
       "\n",
       "    .dataframe tbody tr th {\n",
       "        vertical-align: top;\n",
       "    }\n",
       "\n",
       "    .dataframe thead th {\n",
       "        text-align: right;\n",
       "    }\n",
       "</style>\n",
       "<table border=\"1\" class=\"dataframe\">\n",
       "  <thead>\n",
       "    <tr style=\"text-align: right;\">\n",
       "      <th></th>\n",
       "      <th>online_order</th>\n",
       "      <th>book_table</th>\n",
       "      <th>votes</th>\n",
       "      <th>rest_type</th>\n",
       "      <th>cuisines</th>\n",
       "      <th>approx_cost(for two people)</th>\n",
       "      <th>listed_in(type)</th>\n",
       "      <th>rates</th>\n",
       "      <th>review_ratings</th>\n",
       "    </tr>\n",
       "  </thead>\n",
       "  <tbody>\n",
       "    <tr>\n",
       "      <td>0</td>\n",
       "      <td>1</td>\n",
       "      <td>0</td>\n",
       "      <td>13</td>\n",
       "      <td>Quick Bites</td>\n",
       "      <td>[northindian, southindian, arabian]</td>\n",
       "      <td>350</td>\n",
       "      <td>2</td>\n",
       "      <td>3.1</td>\n",
       "      <td>2.200000</td>\n",
       "    </tr>\n",
       "    <tr>\n",
       "      <td>1</td>\n",
       "      <td>0</td>\n",
       "      <td>1</td>\n",
       "      <td>5015</td>\n",
       "      <td>Casual Dining, Pub</td>\n",
       "      <td>[european, continental]</td>\n",
       "      <td>1,800</td>\n",
       "      <td>4</td>\n",
       "      <td>4.6</td>\n",
       "      <td>4.300000</td>\n",
       "    </tr>\n",
       "    <tr>\n",
       "      <td>2</td>\n",
       "      <td>0</td>\n",
       "      <td>0</td>\n",
       "      <td>6</td>\n",
       "      <td>Quick Bites</td>\n",
       "      <td>[kerala]</td>\n",
       "      <td>250</td>\n",
       "      <td>4</td>\n",
       "      <td>3.4</td>\n",
       "      <td>NaN</td>\n",
       "    </tr>\n",
       "    <tr>\n",
       "      <td>3</td>\n",
       "      <td>0</td>\n",
       "      <td>0</td>\n",
       "      <td>699</td>\n",
       "      <td>Casual Dining</td>\n",
       "      <td>[thai, chinese, indonesian, asian, momos]</td>\n",
       "      <td>1,500</td>\n",
       "      <td>4</td>\n",
       "      <td>4.3</td>\n",
       "      <td>3.764706</td>\n",
       "    </tr>\n",
       "    <tr>\n",
       "      <td>4</td>\n",
       "      <td>1</td>\n",
       "      <td>0</td>\n",
       "      <td>129</td>\n",
       "      <td>Beverage Shop</td>\n",
       "      <td>[juices, fastfood]</td>\n",
       "      <td>150</td>\n",
       "      <td>2</td>\n",
       "      <td>3.7</td>\n",
       "      <td>2.250000</td>\n",
       "    </tr>\n",
       "  </tbody>\n",
       "</table>\n",
       "</div>"
      ],
      "text/plain": [
       "   online_order  book_table  votes           rest_type  \\\n",
       "0             1           0     13         Quick Bites   \n",
       "1             0           1   5015  Casual Dining, Pub   \n",
       "2             0           0      6         Quick Bites   \n",
       "3             0           0    699       Casual Dining   \n",
       "4             1           0    129       Beverage Shop   \n",
       "\n",
       "                                    cuisines approx_cost(for two people)  \\\n",
       "0        [northindian, southindian, arabian]                         350   \n",
       "1                    [european, continental]                       1,800   \n",
       "2                                   [kerala]                         250   \n",
       "3  [thai, chinese, indonesian, asian, momos]                       1,500   \n",
       "4                         [juices, fastfood]                         150   \n",
       "\n",
       "   listed_in(type) rates  review_ratings  \n",
       "0                2  3.1         2.200000  \n",
       "1                4  4.6         4.300000  \n",
       "2                4  3.4              NaN  \n",
       "3                4  4.3         3.764706  \n",
       "4                2  3.7         2.250000  "
      ]
     },
     "execution_count": 360,
     "metadata": {},
     "output_type": "execute_result"
    }
   ],
   "source": [
    "data1.head()"
   ]
  },
  {
   "cell_type": "code",
   "execution_count": 323,
   "metadata": {},
   "outputs": [
    {
     "name": "stdout",
     "output_type": "stream",
     "text": [
      "<class 'pandas.core.frame.DataFrame'>\n",
      "RangeIndex: 41373 entries, 0 to 41372\n",
      "Data columns (total 18 columns):\n",
      "url                            41373 non-null object\n",
      "address                        41373 non-null object\n",
      "name                           41373 non-null object\n",
      "online_order                   41373 non-null object\n",
      "book_table                     41373 non-null object\n",
      "votes                          41373 non-null int64\n",
      "phone                          40402 non-null object\n",
      "location                       41358 non-null object\n",
      "rest_type                      41198 non-null object\n",
      "dish_liked                     18901 non-null object\n",
      "cuisines                       41341 non-null object\n",
      "approx_cost(for two people)    41094 non-null object\n",
      "reviews_list                   41373 non-null object\n",
      "menu_item                      41373 non-null object\n",
      "listed_in(type)                41373 non-null object\n",
      "listed_in(city)                41373 non-null object\n",
      "rates                          33392 non-null object\n",
      "review_ratings                 35328 non-null float64\n",
      "dtypes: float64(1), int64(1), object(16)\n",
      "memory usage: 5.7+ MB\n"
     ]
    }
   ],
   "source": [
    "data.info()"
   ]
  },
  {
   "cell_type": "code",
   "execution_count": null,
   "metadata": {},
   "outputs": [],
   "source": []
  },
  {
   "cell_type": "code",
   "execution_count": 9,
   "metadata": {},
   "outputs": [
    {
     "data": {
      "text/html": [
       "<div>\n",
       "<style scoped>\n",
       "    .dataframe tbody tr th:only-of-type {\n",
       "        vertical-align: middle;\n",
       "    }\n",
       "\n",
       "    .dataframe tbody tr th {\n",
       "        vertical-align: top;\n",
       "    }\n",
       "\n",
       "    .dataframe thead th {\n",
       "        text-align: right;\n",
       "    }\n",
       "</style>\n",
       "<table border=\"1\" class=\"dataframe\">\n",
       "  <thead>\n",
       "    <tr style=\"text-align: right;\">\n",
       "      <th></th>\n",
       "      <th>votes</th>\n",
       "    </tr>\n",
       "  </thead>\n",
       "  <tbody>\n",
       "    <tr>\n",
       "      <td>count</td>\n",
       "      <td>41373.000000</td>\n",
       "    </tr>\n",
       "    <tr>\n",
       "      <td>mean</td>\n",
       "      <td>283.771493</td>\n",
       "    </tr>\n",
       "    <tr>\n",
       "      <td>std</td>\n",
       "      <td>806.112459</td>\n",
       "    </tr>\n",
       "    <tr>\n",
       "      <td>min</td>\n",
       "      <td>0.000000</td>\n",
       "    </tr>\n",
       "    <tr>\n",
       "      <td>25%</td>\n",
       "      <td>7.000000</td>\n",
       "    </tr>\n",
       "    <tr>\n",
       "      <td>50%</td>\n",
       "      <td>41.000000</td>\n",
       "    </tr>\n",
       "    <tr>\n",
       "      <td>75%</td>\n",
       "      <td>200.000000</td>\n",
       "    </tr>\n",
       "    <tr>\n",
       "      <td>max</td>\n",
       "      <td>16832.000000</td>\n",
       "    </tr>\n",
       "  </tbody>\n",
       "</table>\n",
       "</div>"
      ],
      "text/plain": [
       "              votes\n",
       "count  41373.000000\n",
       "mean     283.771493\n",
       "std      806.112459\n",
       "min        0.000000\n",
       "25%        7.000000\n",
       "50%       41.000000\n",
       "75%      200.000000\n",
       "max    16832.000000"
      ]
     },
     "execution_count": 9,
     "metadata": {},
     "output_type": "execute_result"
    }
   ],
   "source": [
    "data.describe()"
   ]
  },
  {
   "cell_type": "code",
   "execution_count": 10,
   "metadata": {},
   "outputs": [
    {
     "data": {
      "text/plain": [
       "url                            object\n",
       "address                        object\n",
       "name                           object\n",
       "online_order                   object\n",
       "book_table                     object\n",
       "votes                           int64\n",
       "phone                          object\n",
       "location                       object\n",
       "rest_type                      object\n",
       "dish_liked                     object\n",
       "cuisines                       object\n",
       "approx_cost(for two people)    object\n",
       "reviews_list                   object\n",
       "menu_item                      object\n",
       "listed_in(type)                object\n",
       "listed_in(city)                object\n",
       "rates                          object\n",
       "dtype: object"
      ]
     },
     "execution_count": 10,
     "metadata": {},
     "output_type": "execute_result"
    }
   ],
   "source": [
    "data.dtypes"
   ]
  },
  {
   "cell_type": "code",
   "execution_count": 15,
   "metadata": {},
   "outputs": [
    {
     "data": {
      "text/plain": [
       "url                                0\n",
       "address                            0\n",
       "name                               0\n",
       "online_order                       0\n",
       "book_table                         0\n",
       "votes                              0\n",
       "phone                            971\n",
       "location                          15\n",
       "rest_type                        175\n",
       "dish_liked                     22472\n",
       "cuisines                          32\n",
       "approx_cost(for two people)      279\n",
       "reviews_list                       0\n",
       "menu_item                          0\n",
       "listed_in(type)                    0\n",
       "listed_in(city)                    0\n",
       "rates                           7981\n",
       "dtype: int64"
      ]
     },
     "execution_count": 15,
     "metadata": {},
     "output_type": "execute_result"
    }
   ],
   "source": [
    "data.isna().sum()"
   ]
  },
  {
   "cell_type": "code",
   "execution_count": 26,
   "metadata": {},
   "outputs": [
    {
     "data": {
      "text/plain": [
       "(array([3.7904e+04, 1.7660e+03, 8.3100e+02, 3.4100e+02, 1.9600e+02,\n",
       "        1.5300e+02, 1.7000e+01, 2.8000e+01, 6.3000e+01, 2.1000e+01,\n",
       "        1.8000e+01, 3.0000e+00, 1.1000e+01, 0.0000e+00, 1.0000e+00,\n",
       "        0.0000e+00, 0.0000e+00, 1.5000e+01, 0.0000e+00, 5.0000e+00]),\n",
       " array([    0. ,   841.6,  1683.2,  2524.8,  3366.4,  4208. ,  5049.6,\n",
       "         5891.2,  6732.8,  7574.4,  8416. ,  9257.6, 10099.2, 10940.8,\n",
       "        11782.4, 12624. , 13465.6, 14307.2, 15148.8, 15990.4, 16832. ]),\n",
       " <a list of 20 Patch objects>)"
      ]
     },
     "execution_count": 26,
     "metadata": {},
     "output_type": "execute_result"
    },
    {
     "data": {
      "image/png": "[encoded data removed]",
      "text/plain": [
       "<Figure size 432x288 with 1 Axes>"
      ]
     },
     "metadata": {
      "needs_background": "light"
     },
     "output_type": "display_data"
    }
   ],
   "source": [
    "plt.hist(x=data.votes,bins=20)"
   ]
  },
  {
   "cell_type": "code",
   "execution_count": 38,
   "metadata": {},
   "outputs": [
    {
     "data": {
      "text/plain": [
       "0"
      ]
     },
     "execution_count": 38,
     "metadata": {},
     "output_type": "execute_result"
    }
   ],
   "source": [
    "data.votes.isna().sum()"
   ]
  },
  {
   "cell_type": "code",
   "execution_count": 27,
   "metadata": {},
   "outputs": [
    {
     "data": {
      "text/plain": [
       "16832"
      ]
     },
     "execution_count": 27,
     "metadata": {},
     "output_type": "execute_result"
    }
   ],
   "source": [
    "data.votes.max()"
   ]
  },
  {
   "cell_type": "code",
   "execution_count": 28,
   "metadata": {},
   "outputs": [
    {
     "data": {
      "text/plain": [
       "0"
      ]
     },
     "execution_count": 28,
     "metadata": {},
     "output_type": "execute_result"
    }
   ],
   "source": [
    "data.votes.min()"
   ]
  },
  {
   "cell_type": "code",
   "execution_count": 31,
   "metadata": {},
   "outputs": [
    {
     "data": {
      "text/plain": [
       "0    3.1 \n",
       "1    4.6 \n",
       "2    3.4 \n",
       "3    4.3 \n",
       "4    3.7 \n",
       "Name: rates, dtype: object"
      ]
     },
     "execution_count": 31,
     "metadata": {},
     "output_type": "execute_result"
    }
   ],
   "source": [
    "data.rates.head()"
   ]
  },
  {
   "cell_type": "code",
   "execution_count": 36,
   "metadata": {},
   "outputs": [
    {
     "data": {
      "text/plain": [
       "dtype('O')"
      ]
     },
     "execution_count": 36,
     "metadata": {},
     "output_type": "execute_result"
    }
   ],
   "source": [
    "data.rates.dtypes"
   ]
  },
  {
   "cell_type": "code",
   "execution_count": 39,
   "metadata": {},
   "outputs": [
    {
     "data": {
      "text/plain": [
       "7981"
      ]
     },
     "execution_count": 39,
     "metadata": {},
     "output_type": "execute_result"
    }
   ],
   "source": [
    "data.rates.isna().sum()"
   ]
  },
  {
   "cell_type": "code",
   "execution_count": 372,
   "metadata": {},
   "outputs": [],
   "source": [
    "from sklearn.preprocessing import MultiLabelBinarizer,OneHotEncoder"
   ]
  },
  {
   "cell_type": "code",
   "execution_count": 362,
   "metadata": {},
   "outputs": [],
   "source": [
    "one_hot = MultiLabelBinarizer()"
   ]
  },
  {
   "cell_type": "code",
   "execution_count": 90,
   "metadata": {},
   "outputs": [
    {
     "data": {
      "text/plain": [
       "0        north indian, south indian, arabian\n",
       "1                      european, continental\n",
       "2                                     kerala\n",
       "3    thai, chinese, indonesian, asian, momos\n",
       "4                          juices, fast food\n",
       "Name: cuisines, dtype: object"
      ]
     },
     "execution_count": 90,
     "metadata": {},
     "output_type": "execute_result"
    }
   ],
   "source": [
    "len(data['cuisines'].unique())\n",
    "data[\"cuisines\"].head().map(lambda x: x.lower())"
   ]
  },
  {
   "cell_type": "code",
   "execution_count": 366,
   "metadata": {},
   "outputs": [
    {
     "data": {
      "text/plain": [
       "<bound method Series.unique of 0                   North Indian, South Indian, Arabian\n",
       "1                                 European, Continental\n",
       "2                                                Kerala\n",
       "3               Thai, Chinese, Indonesian, Asian, Momos\n",
       "4                                     Juices, Fast Food\n",
       "                              ...                      \n",
       "41368    South Indian, North Indian, Chinese, Beverages\n",
       "41369                  North Indian, Fast Food, Chinese\n",
       "41370                                 North Indian, BBQ\n",
       "41371                        North Indian, Healthy Food\n",
       "41372                                      South Indian\n",
       "Name: cuisines, Length: 41373, dtype: object>"
      ]
     },
     "execution_count": 366,
     "metadata": {},
     "output_type": "execute_result"
    }
   ],
   "source": [
    "data[\"cuisines\"].unique"
   ]
  },
  {
   "cell_type": "code",
   "execution_count": 391,
   "metadata": {},
   "outputs": [
    {
     "data": {
      "text/html": [
       "<div>\n",
       "<style scoped>\n",
       "    .dataframe tbody tr th:only-of-type {\n",
       "        vertical-align: middle;\n",
       "    }\n",
       "\n",
       "    .dataframe tbody tr th {\n",
       "        vertical-align: top;\n",
       "    }\n",
       "\n",
       "    .dataframe thead th {\n",
       "        text-align: right;\n",
       "    }\n",
       "</style>\n",
       "<table border=\"1\" class=\"dataframe\">\n",
       "  <thead>\n",
       "    <tr style=\"text-align: right;\">\n",
       "      <th></th>\n",
       "      <th>online_order</th>\n",
       "      <th>book_table</th>\n",
       "      <th>votes</th>\n",
       "      <th>rest_type</th>\n",
       "      <th>cuisines</th>\n",
       "      <th>approx_cost(for two people)</th>\n",
       "      <th>listed_in(type)</th>\n",
       "      <th>rates</th>\n",
       "      <th>review_ratings</th>\n",
       "    </tr>\n",
       "  </thead>\n",
       "  <tbody>\n",
       "    <tr>\n",
       "      <td>0</td>\n",
       "      <td>1</td>\n",
       "      <td>0</td>\n",
       "      <td>13</td>\n",
       "      <td>1</td>\n",
       "      <td>1</td>\n",
       "      <td>350</td>\n",
       "      <td>2</td>\n",
       "      <td>3.1</td>\n",
       "      <td>2.200000</td>\n",
       "    </tr>\n",
       "    <tr>\n",
       "      <td>1</td>\n",
       "      <td>0</td>\n",
       "      <td>1</td>\n",
       "      <td>5015</td>\n",
       "      <td>0</td>\n",
       "      <td>0</td>\n",
       "      <td>1,800</td>\n",
       "      <td>4</td>\n",
       "      <td>4.6</td>\n",
       "      <td>4.300000</td>\n",
       "    </tr>\n",
       "    <tr>\n",
       "      <td>2</td>\n",
       "      <td>0</td>\n",
       "      <td>0</td>\n",
       "      <td>6</td>\n",
       "      <td>0</td>\n",
       "      <td>0</td>\n",
       "      <td>250</td>\n",
       "      <td>4</td>\n",
       "      <td>3.4</td>\n",
       "      <td>NaN</td>\n",
       "    </tr>\n",
       "    <tr>\n",
       "      <td>3</td>\n",
       "      <td>0</td>\n",
       "      <td>0</td>\n",
       "      <td>699</td>\n",
       "      <td>0</td>\n",
       "      <td>0</td>\n",
       "      <td>1,500</td>\n",
       "      <td>4</td>\n",
       "      <td>4.3</td>\n",
       "      <td>3.764706</td>\n",
       "    </tr>\n",
       "    <tr>\n",
       "      <td>4</td>\n",
       "      <td>1</td>\n",
       "      <td>0</td>\n",
       "      <td>129</td>\n",
       "      <td>1</td>\n",
       "      <td>1</td>\n",
       "      <td>150</td>\n",
       "      <td>2</td>\n",
       "      <td>3.7</td>\n",
       "      <td>2.250000</td>\n",
       "    </tr>\n",
       "  </tbody>\n",
       "</table>\n",
       "</div>"
      ],
      "text/plain": [
       "   online_order  book_table  votes rest_type cuisines  \\\n",
       "0             1           0     13         1        1   \n",
       "1             0           1   5015         0        0   \n",
       "2             0           0      6         0        0   \n",
       "3             0           0    699         0        0   \n",
       "4             1           0    129         1        1   \n",
       "\n",
       "  approx_cost(for two people)  listed_in(type) rates  review_ratings  \n",
       "0                         350                2  3.1         2.200000  \n",
       "1                       1,800                4  4.6         4.300000  \n",
       "2                         250                4  3.4              NaN  \n",
       "3                       1,500                4  4.3         3.764706  \n",
       "4                         150                2  3.7         2.250000  "
      ]
     },
     "execution_count": 391,
     "metadata": {},
     "output_type": "execute_result"
    }
   ],
   "source": [
    " data1.head()"
   ]
  },
  {
   "cell_type": "code",
   "execution_count": 396,
   "metadata": {},
   "outputs": [],
   "source": [
    "data1=data1.drop('cuisines',axis=1)\n",
    "data1=data1.drop('rest_type',axis=1)"
   ]
  },
  {
   "cell_type": "code",
   "execution_count": 397,
   "metadata": {},
   "outputs": [
    {
     "data": {
      "text/html": [
       "<div>\n",
       "<style scoped>\n",
       "    .dataframe tbody tr th:only-of-type {\n",
       "        vertical-align: middle;\n",
       "    }\n",
       "\n",
       "    .dataframe tbody tr th {\n",
       "        vertical-align: top;\n",
       "    }\n",
       "\n",
       "    .dataframe thead th {\n",
       "        text-align: right;\n",
       "    }\n",
       "</style>\n",
       "<table border=\"1\" class=\"dataframe\">\n",
       "  <thead>\n",
       "    <tr style=\"text-align: right;\">\n",
       "      <th></th>\n",
       "      <th>online_order</th>\n",
       "      <th>book_table</th>\n",
       "      <th>votes</th>\n",
       "      <th>approx_cost(for two people)</th>\n",
       "      <th>listed_in(type)</th>\n",
       "      <th>rates</th>\n",
       "      <th>review_ratings</th>\n",
       "    </tr>\n",
       "  </thead>\n",
       "  <tbody>\n",
       "    <tr>\n",
       "      <td>0</td>\n",
       "      <td>1</td>\n",
       "      <td>0</td>\n",
       "      <td>13</td>\n",
       "      <td>350</td>\n",
       "      <td>2</td>\n",
       "      <td>3.1</td>\n",
       "      <td>2.200000</td>\n",
       "    </tr>\n",
       "    <tr>\n",
       "      <td>1</td>\n",
       "      <td>0</td>\n",
       "      <td>1</td>\n",
       "      <td>5015</td>\n",
       "      <td>1,800</td>\n",
       "      <td>4</td>\n",
       "      <td>4.6</td>\n",
       "      <td>4.300000</td>\n",
       "    </tr>\n",
       "    <tr>\n",
       "      <td>2</td>\n",
       "      <td>0</td>\n",
       "      <td>0</td>\n",
       "      <td>6</td>\n",
       "      <td>250</td>\n",
       "      <td>4</td>\n",
       "      <td>3.4</td>\n",
       "      <td>NaN</td>\n",
       "    </tr>\n",
       "    <tr>\n",
       "      <td>3</td>\n",
       "      <td>0</td>\n",
       "      <td>0</td>\n",
       "      <td>699</td>\n",
       "      <td>1,500</td>\n",
       "      <td>4</td>\n",
       "      <td>4.3</td>\n",
       "      <td>3.764706</td>\n",
       "    </tr>\n",
       "    <tr>\n",
       "      <td>4</td>\n",
       "      <td>1</td>\n",
       "      <td>0</td>\n",
       "      <td>129</td>\n",
       "      <td>150</td>\n",
       "      <td>2</td>\n",
       "      <td>3.7</td>\n",
       "      <td>2.250000</td>\n",
       "    </tr>\n",
       "  </tbody>\n",
       "</table>\n",
       "</div>"
      ],
      "text/plain": [
       "   online_order  book_table  votes approx_cost(for two people)  \\\n",
       "0             1           0     13                         350   \n",
       "1             0           1   5015                       1,800   \n",
       "2             0           0      6                         250   \n",
       "3             0           0    699                       1,500   \n",
       "4             1           0    129                         150   \n",
       "\n",
       "   listed_in(type) rates  review_ratings  \n",
       "0                2  3.1         2.200000  \n",
       "1                4  4.6         4.300000  \n",
       "2                4  3.4              NaN  \n",
       "3                4  4.3         3.764706  \n",
       "4                2  3.7         2.250000  "
      ]
     },
     "execution_count": 397,
     "metadata": {},
     "output_type": "execute_result"
    }
   ],
   "source": [
    "data1.head()"
   ]
  },
  {
   "cell_type": "code",
   "execution_count": 377,
   "metadata": {},
   "outputs": [
    {
     "data": {
      "text/plain": [
       "array(['american', 'arabian', 'asian', 'beverages', 'biryani', 'cafe',\n",
       "       'chinese', 'continental', 'desserts', 'european', 'fastfood',\n",
       "       'french', 'healthyfood', 'icecream', 'indonesian', 'italian',\n",
       "       'juices', 'kerala', 'mexican', 'momos', 'northindian', 'pizza',\n",
       "       'salad', 'sandwich', 'southindian', 'streetfood', 'thai'],\n",
       "      dtype=object)"
      ]
     },
     "execution_count": 377,
     "metadata": {},
     "output_type": "execute_result"
    }
   ],
   "source": [
    "one_hot.classes_"
   ]
  },
  {
   "cell_type": "code",
   "execution_count": null,
   "metadata": {},
   "outputs": [],
   "source": []
  },
  {
   "cell_type": "code",
   "execution_count": 124,
   "metadata": {},
   "outputs": [
    {
     "data": {
      "text/plain": [
       "3"
      ]
     },
     "execution_count": 124,
     "metadata": {},
     "output_type": "execute_result"
    }
   ],
   "source": [
    "data.reviews_list[0].find('Rated 1.0')"
   ]
  },
  {
   "cell_type": "code",
   "execution_count": 247,
   "metadata": {},
   "outputs": [
    {
     "data": {
      "text/plain": [
       "['3.0', '9.3']"
      ]
     },
     "execution_count": 247,
     "metadata": {},
     "output_type": "execute_result"
    }
   ],
   "source": [
    "data.reviews_list[1721].split(',')\n",
    "re.findall(\"\\d\\.\\d\", data.reviews_list[1721])"
   ]
  },
  {
   "cell_type": "code",
   "execution_count": 248,
   "metadata": {},
   "outputs": [],
   "source": [
    "d=[]\n",
    "for i in range(len(data.reviews_list)):\n",
    "    x=re.findall(\"\\d\\.\\d\", data.reviews_list[i])\n",
    "    c=[]\n",
    "    total=0\n",
    "    for i in x:\n",
    "        if float(i) <= 5:\n",
    "            c.append(float(i))\n",
    "        total=total+float(i)\n",
    "    c=np.array(c)\n",
    "    d.append(np.mean(c))"
   ]
  },
  {
   "cell_type": "code",
   "execution_count": 249,
   "metadata": {},
   "outputs": [],
   "source": [
    "c=0\n",
    "for i in d:\n",
    "    if i>5:\n",
    "        print(c)\n",
    "    c=c+1"
   ]
  },
  {
   "cell_type": "code",
   "execution_count": 251,
   "metadata": {},
   "outputs": [],
   "source": [
    "data['review_ratings']=d"
   ]
  },
  {
   "cell_type": "code",
   "execution_count": null,
   "metadata": {},
   "outputs": [],
   "source": []
  },
  {
   "cell_type": "code",
   "execution_count": 252,
   "metadata": {},
   "outputs": [
    {
     "data": {
      "text/plain": [
       "3.0"
      ]
     },
     "execution_count": 252,
     "metadata": {},
     "output_type": "execute_result"
    }
   ],
   "source": [
    "data.review_ratings[1721]"
   ]
  },
  {
   "cell_type": "code",
   "execution_count": 253,
   "metadata": {},
   "outputs": [
    {
     "data": {
      "text/plain": [
       "5115"
      ]
     },
     "execution_count": 253,
     "metadata": {},
     "output_type": "execute_result"
    }
   ],
   "source": [
    "data[data.review_ratings.isna()].rates.isna().sum()"
   ]
  },
  {
   "cell_type": "code",
   "execution_count": 224,
   "metadata": {},
   "outputs": [
    {
     "data": {
      "text/plain": [
       "0        North Indian, South Indian, Arabian\n",
       "1                      European, Continental\n",
       "2                                     Kerala\n",
       "3    Thai, Chinese, Indonesian, Asian, Momos\n",
       "4                          Juices, Fast Food\n",
       "Name: cuisines, dtype: object"
      ]
     },
     "execution_count": 224,
     "metadata": {},
     "output_type": "execute_result"
    }
   ],
   "source": [
    "data.cuisines.head()"
   ]
  },
  {
   "cell_type": "code",
   "execution_count": 241,
   "metadata": {},
   "outputs": [],
   "source": [
    "s='my age is 25. I have 55.50 percent marks and 9764135408 is my number'"
   ]
  },
  {
   "cell_type": "code",
   "execution_count": 245,
   "metadata": {},
   "outputs": [
    {
     "data": {
      "text/plain": [
       "['5.5']"
      ]
     },
     "execution_count": 245,
     "metadata": {},
     "output_type": "execute_result"
    }
   ],
   "source": [
    "re.findall('\\d\\.\\d',s)"
   ]
  },
  {
   "cell_type": "code",
   "execution_count": 272,
   "metadata": {},
   "outputs": [
    {
     "name": "stdout",
     "output_type": "stream",
     "text": [
      "2655\n"
     ]
    },
    {
     "data": {
      "text/plain": [
       "'European, Continental'"
      ]
     },
     "execution_count": 272,
     "metadata": {},
     "output_type": "execute_result"
    }
   ],
   "source": [
    "print(len(data['cuisines'].unique()))\n",
    "#data[\"cuisines\"].head(300).map(lambda x: x.lower())\n",
    "data.cuisines[1]"
   ]
  },
  {
   "cell_type": "code",
   "execution_count": 276,
   "metadata": {},
   "outputs": [
    {
     "ename": "TypeError",
     "evalue": "expected string or bytes-like object",
     "output_type": "error",
     "traceback": [
      "\u001b[1;31m---------------------------------------------------------------------------\u001b[0m",
      "\u001b[1;31mTypeError\u001b[0m                                 Traceback (most recent call last)",
      "\u001b[1;32m<ipython-input-276-c67d20860c08>\u001b[0m in \u001b[0;36m<module>\u001b[1;34m\u001b[0m\n\u001b[0;32m      1\u001b[0m \u001b[0mx\u001b[0m\u001b[1;33m=\u001b[0m\u001b[1;33m[\u001b[0m\u001b[1;33m]\u001b[0m\u001b[1;33m\u001b[0m\u001b[1;33m\u001b[0m\u001b[0m\n\u001b[0;32m      2\u001b[0m \u001b[1;32mfor\u001b[0m \u001b[0mi\u001b[0m \u001b[1;32min\u001b[0m \u001b[0mrange\u001b[0m\u001b[1;33m(\u001b[0m\u001b[0mlen\u001b[0m\u001b[1;33m(\u001b[0m\u001b[0mdata\u001b[0m\u001b[1;33m.\u001b[0m\u001b[0mcuisines\u001b[0m\u001b[1;33m)\u001b[0m\u001b[1;33m)\u001b[0m\u001b[1;33m:\u001b[0m\u001b[1;33m\u001b[0m\u001b[1;33m\u001b[0m\u001b[0m\n\u001b[1;32m----> 3\u001b[1;33m     \u001b[0mx\u001b[0m\u001b[1;33m.\u001b[0m\u001b[0mappend\u001b[0m\u001b[1;33m(\u001b[0m\u001b[0mre\u001b[0m\u001b[1;33m.\u001b[0m\u001b[0mfindall\u001b[0m\u001b[1;33m(\u001b[0m\u001b[1;34m'/d/'\u001b[0m\u001b[1;33m,\u001b[0m\u001b[0mdata\u001b[0m\u001b[1;33m[\u001b[0m\u001b[1;34m'cuisines'\u001b[0m\u001b[1;33m]\u001b[0m\u001b[1;33m[\u001b[0m\u001b[0mi\u001b[0m\u001b[1;33m]\u001b[0m\u001b[1;33m)\u001b[0m\u001b[1;33m)\u001b[0m\u001b[1;33m\u001b[0m\u001b[1;33m\u001b[0m\u001b[0m\n\u001b[0m\u001b[0;32m      4\u001b[0m \u001b[1;33m\u001b[0m\u001b[0m\n",
      "\u001b[1;32m~\\Anaconda3\\lib\\re.py\u001b[0m in \u001b[0;36mfindall\u001b[1;34m(pattern, string, flags)\u001b[0m\n\u001b[0;32m    221\u001b[0m \u001b[1;33m\u001b[0m\u001b[0m\n\u001b[0;32m    222\u001b[0m     Empty matches are included in the result.\"\"\"\n\u001b[1;32m--> 223\u001b[1;33m     \u001b[1;32mreturn\u001b[0m \u001b[0m_compile\u001b[0m\u001b[1;33m(\u001b[0m\u001b[0mpattern\u001b[0m\u001b[1;33m,\u001b[0m \u001b[0mflags\u001b[0m\u001b[1;33m)\u001b[0m\u001b[1;33m.\u001b[0m\u001b[0mfindall\u001b[0m\u001b[1;33m(\u001b[0m\u001b[0mstring\u001b[0m\u001b[1;33m)\u001b[0m\u001b[1;33m\u001b[0m\u001b[1;33m\u001b[0m\u001b[0m\n\u001b[0m\u001b[0;32m    224\u001b[0m \u001b[1;33m\u001b[0m\u001b[0m\n\u001b[0;32m    225\u001b[0m \u001b[1;32mdef\u001b[0m \u001b[0mfinditer\u001b[0m\u001b[1;33m(\u001b[0m\u001b[0mpattern\u001b[0m\u001b[1;33m,\u001b[0m \u001b[0mstring\u001b[0m\u001b[1;33m,\u001b[0m \u001b[0mflags\u001b[0m\u001b[1;33m=\u001b[0m\u001b[1;36m0\u001b[0m\u001b[1;33m)\u001b[0m\u001b[1;33m:\u001b[0m\u001b[1;33m\u001b[0m\u001b[1;33m\u001b[0m\u001b[0m\n",
      "\u001b[1;31mTypeError\u001b[0m: expected string or bytes-like object"
     ]
    }
   ],
   "source": [
    "x=[]\n",
    "for i in range(len(data.cuisines)):\n",
    "    x.append(re.findall('/d/',data['cuisines'][i]))\n",
    "    "
   ]
  },
  {
   "cell_type": "code",
   "execution_count": 274,
   "metadata": {},
   "outputs": [
    {
     "data": {
      "text/plain": [
       "[[],\n",
       " [],\n",
       " [],\n",
       " [],\n",
       " [],\n",
       " [],\n",
       " [],\n",
       " [],\n",
       " [],\n",
       " [],\n",
       " [],\n",
       " [],\n",
       " [],\n",
       " [],\n",
       " [],\n",
       " [],\n",
       " [],\n",
       " [],\n",
       " [],\n",
       " [],\n",
       " [],\n",
       " [],\n",
       " [],\n",
       " [],\n",
       " [],\n",
       " [],\n",
       " [],\n",
       " [],\n",
       " [],\n",
       " [],\n",
       " [],\n",
       " [],\n",
       " [],\n",
       " [],\n",
       " [],\n",
       " [],\n",
       " [],\n",
       " [],\n",
       " [],\n",
       " [],\n",
       " [],\n",
       " [],\n",
       " [],\n",
       " [],\n",
       " [],\n",
       " [],\n",
       " [],\n",
       " [],\n",
       " [],\n",
       " [],\n",
       " [],\n",
       " [],\n",
       " [],\n",
       " [],\n",
       " [],\n",
       " [],\n",
       " [],\n",
       " [],\n",
       " [],\n",
       " [],\n",
       " [],\n",
       " [],\n",
       " [],\n",
       " [],\n",
       " [],\n",
       " [],\n",
       " [],\n",
       " [],\n",
       " [],\n",
       " [],\n",
       " [],\n",
       " [],\n",
       " [],\n",
       " [],\n",
       " [],\n",
       " [],\n",
       " [],\n",
       " [],\n",
       " [],\n",
       " [],\n",
       " [],\n",
       " [],\n",
       " [],\n",
       " [],\n",
       " [],\n",
       " [],\n",
       " [],\n",
       " [],\n",
       " [],\n",
       " [],\n",
       " [],\n",
       " [],\n",
       " [],\n",
       " [],\n",
       " [],\n",
       " [],\n",
       " [],\n",
       " [],\n",
       " [],\n",
       " [],\n",
       " [],\n",
       " [],\n",
       " [],\n",
       " [],\n",
       " [],\n",
       " [],\n",
       " [],\n",
       " [],\n",
       " [],\n",
       " [],\n",
       " [],\n",
       " [],\n",
       " [],\n",
       " [],\n",
       " [],\n",
       " [],\n",
       " [],\n",
       " [],\n",
       " [],\n",
       " [],\n",
       " [],\n",
       " [],\n",
       " [],\n",
       " [],\n",
       " [],\n",
       " [],\n",
       " [],\n",
       " [],\n",
       " [],\n",
       " [],\n",
       " [],\n",
       " [],\n",
       " [],\n",
       " [],\n",
       " [],\n",
       " [],\n",
       " [],\n",
       " [],\n",
       " [],\n",
       " [],\n",
       " [],\n",
       " [],\n",
       " [],\n",
       " [],\n",
       " [],\n",
       " [],\n",
       " [],\n",
       " [],\n",
       " [],\n",
       " [],\n",
       " [],\n",
       " [],\n",
       " [],\n",
       " [],\n",
       " [],\n",
       " [],\n",
       " [],\n",
       " [],\n",
       " [],\n",
       " [],\n",
       " [],\n",
       " [],\n",
       " [],\n",
       " [],\n",
       " [],\n",
       " [],\n",
       " [],\n",
       " [],\n",
       " [],\n",
       " [],\n",
       " [],\n",
       " [],\n",
       " [],\n",
       " [],\n",
       " [],\n",
       " [],\n",
       " [],\n",
       " [],\n",
       " [],\n",
       " [],\n",
       " [],\n",
       " [],\n",
       " [],\n",
       " [],\n",
       " [],\n",
       " [],\n",
       " [],\n",
       " [],\n",
       " [],\n",
       " [],\n",
       " [],\n",
       " [],\n",
       " [],\n",
       " [],\n",
       " [],\n",
       " [],\n",
       " [],\n",
       " [],\n",
       " [],\n",
       " [],\n",
       " [],\n",
       " [],\n",
       " [],\n",
       " [],\n",
       " [],\n",
       " [],\n",
       " [],\n",
       " [],\n",
       " [],\n",
       " [],\n",
       " [],\n",
       " [],\n",
       " [],\n",
       " [],\n",
       " [],\n",
       " [],\n",
       " [],\n",
       " [],\n",
       " [],\n",
       " [],\n",
       " [],\n",
       " [],\n",
       " [],\n",
       " [],\n",
       " [],\n",
       " [],\n",
       " [],\n",
       " [],\n",
       " [],\n",
       " [],\n",
       " [],\n",
       " [],\n",
       " [],\n",
       " [],\n",
       " [],\n",
       " [],\n",
       " [],\n",
       " [],\n",
       " [],\n",
       " [],\n",
       " [],\n",
       " [],\n",
       " [],\n",
       " [],\n",
       " [],\n",
       " [],\n",
       " [],\n",
       " [],\n",
       " [],\n",
       " [],\n",
       " [],\n",
       " [],\n",
       " [],\n",
       " [],\n",
       " [],\n",
       " [],\n",
       " [],\n",
       " [],\n",
       " [],\n",
       " [],\n",
       " [],\n",
       " [],\n",
       " [],\n",
       " [],\n",
       " [],\n",
       " [],\n",
       " [],\n",
       " [],\n",
       " [],\n",
       " [],\n",
       " [],\n",
       " [],\n",
       " [],\n",
       " [],\n",
       " [],\n",
       " [],\n",
       " [],\n",
       " [],\n",
       " [],\n",
       " [],\n",
       " [],\n",
       " [],\n",
       " [],\n",
       " [],\n",
       " [],\n",
       " [],\n",
       " [],\n",
       " [],\n",
       " [],\n",
       " [],\n",
       " [],\n",
       " [],\n",
       " [],\n",
       " [],\n",
       " [],\n",
       " [],\n",
       " [],\n",
       " [],\n",
       " [],\n",
       " [],\n",
       " [],\n",
       " [],\n",
       " [],\n",
       " [],\n",
       " [],\n",
       " [],\n",
       " [],\n",
       " [],\n",
       " [],\n",
       " [],\n",
       " [],\n",
       " [],\n",
       " [],\n",
       " [],\n",
       " [],\n",
       " [],\n",
       " [],\n",
       " [],\n",
       " [],\n",
       " [],\n",
       " [],\n",
       " [],\n",
       " [],\n",
       " [],\n",
       " [],\n",
       " [],\n",
       " [],\n",
       " [],\n",
       " [],\n",
       " [],\n",
       " [],\n",
       " [],\n",
       " [],\n",
       " [],\n",
       " [],\n",
       " [],\n",
       " [],\n",
       " [],\n",
       " [],\n",
       " [],\n",
       " [],\n",
       " [],\n",
       " [],\n",
       " [],\n",
       " [],\n",
       " [],\n",
       " [],\n",
       " [],\n",
       " [],\n",
       " [],\n",
       " [],\n",
       " [],\n",
       " [],\n",
       " [],\n",
       " [],\n",
       " [],\n",
       " [],\n",
       " [],\n",
       " [],\n",
       " [],\n",
       " [],\n",
       " [],\n",
       " [],\n",
       " [],\n",
       " [],\n",
       " [],\n",
       " [],\n",
       " [],\n",
       " [],\n",
       " [],\n",
       " [],\n",
       " [],\n",
       " [],\n",
       " [],\n",
       " [],\n",
       " [],\n",
       " [],\n",
       " [],\n",
       " [],\n",
       " [],\n",
       " [],\n",
       " [],\n",
       " [],\n",
       " [],\n",
       " [],\n",
       " [],\n",
       " [],\n",
       " [],\n",
       " [],\n",
       " [],\n",
       " [],\n",
       " [],\n",
       " [],\n",
       " [],\n",
       " [],\n",
       " [],\n",
       " [],\n",
       " [],\n",
       " [],\n",
       " [],\n",
       " [],\n",
       " [],\n",
       " [],\n",
       " [],\n",
       " [],\n",
       " [],\n",
       " [],\n",
       " [],\n",
       " [],\n",
       " [],\n",
       " [],\n",
       " [],\n",
       " [],\n",
       " [],\n",
       " [],\n",
       " [],\n",
       " [],\n",
       " [],\n",
       " [],\n",
       " [],\n",
       " [],\n",
       " [],\n",
       " [],\n",
       " [],\n",
       " [],\n",
       " [],\n",
       " [],\n",
       " [],\n",
       " [],\n",
       " [],\n",
       " [],\n",
       " [],\n",
       " [],\n",
       " [],\n",
       " [],\n",
       " [],\n",
       " [],\n",
       " [],\n",
       " [],\n",
       " [],\n",
       " [],\n",
       " [],\n",
       " [],\n",
       " [],\n",
       " [],\n",
       " [],\n",
       " [],\n",
       " [],\n",
       " [],\n",
       " [],\n",
       " [],\n",
       " [],\n",
       " [],\n",
       " [],\n",
       " [],\n",
       " [],\n",
       " [],\n",
       " [],\n",
       " [],\n",
       " [],\n",
       " [],\n",
       " [],\n",
       " [],\n",
       " [],\n",
       " [],\n",
       " [],\n",
       " [],\n",
       " [],\n",
       " [],\n",
       " [],\n",
       " [],\n",
       " [],\n",
       " [],\n",
       " [],\n",
       " [],\n",
       " [],\n",
       " [],\n",
       " [],\n",
       " [],\n",
       " [],\n",
       " [],\n",
       " [],\n",
       " [],\n",
       " [],\n",
       " [],\n",
       " [],\n",
       " [],\n",
       " [],\n",
       " [],\n",
       " [],\n",
       " [],\n",
       " [],\n",
       " [],\n",
       " [],\n",
       " [],\n",
       " [],\n",
       " [],\n",
       " [],\n",
       " [],\n",
       " [],\n",
       " [],\n",
       " [],\n",
       " [],\n",
       " [],\n",
       " [],\n",
       " [],\n",
       " [],\n",
       " [],\n",
       " [],\n",
       " [],\n",
       " [],\n",
       " [],\n",
       " [],\n",
       " [],\n",
       " [],\n",
       " [],\n",
       " [],\n",
       " [],\n",
       " [],\n",
       " [],\n",
       " [],\n",
       " [],\n",
       " [],\n",
       " [],\n",
       " [],\n",
       " [],\n",
       " [],\n",
       " [],\n",
       " [],\n",
       " [],\n",
       " [],\n",
       " [],\n",
       " [],\n",
       " [],\n",
       " [],\n",
       " [],\n",
       " [],\n",
       " [],\n",
       " [],\n",
       " [],\n",
       " [],\n",
       " [],\n",
       " [],\n",
       " [],\n",
       " [],\n",
       " [],\n",
       " [],\n",
       " [],\n",
       " [],\n",
       " [],\n",
       " [],\n",
       " [],\n",
       " [],\n",
       " [],\n",
       " [],\n",
       " [],\n",
       " [],\n",
       " [],\n",
       " [],\n",
       " [],\n",
       " [],\n",
       " [],\n",
       " [],\n",
       " [],\n",
       " [],\n",
       " [],\n",
       " [],\n",
       " [],\n",
       " [],\n",
       " [],\n",
       " [],\n",
       " [],\n",
       " [],\n",
       " [],\n",
       " [],\n",
       " [],\n",
       " [],\n",
       " [],\n",
       " [],\n",
       " [],\n",
       " [],\n",
       " [],\n",
       " [],\n",
       " [],\n",
       " [],\n",
       " [],\n",
       " [],\n",
       " [],\n",
       " [],\n",
       " [],\n",
       " [],\n",
       " [],\n",
       " [],\n",
       " [],\n",
       " [],\n",
       " [],\n",
       " [],\n",
       " [],\n",
       " [],\n",
       " [],\n",
       " [],\n",
       " [],\n",
       " [],\n",
       " [],\n",
       " [],\n",
       " [],\n",
       " [],\n",
       " [],\n",
       " [],\n",
       " [],\n",
       " [],\n",
       " [],\n",
       " [],\n",
       " [],\n",
       " [],\n",
       " [],\n",
       " [],\n",
       " [],\n",
       " [],\n",
       " [],\n",
       " [],\n",
       " [],\n",
       " [],\n",
       " [],\n",
       " [],\n",
       " [],\n",
       " [],\n",
       " [],\n",
       " [],\n",
       " [],\n",
       " [],\n",
       " [],\n",
       " [],\n",
       " [],\n",
       " [],\n",
       " [],\n",
       " [],\n",
       " [],\n",
       " [],\n",
       " [],\n",
       " [],\n",
       " [],\n",
       " [],\n",
       " [],\n",
       " [],\n",
       " [],\n",
       " [],\n",
       " [],\n",
       " [],\n",
       " [],\n",
       " [],\n",
       " [],\n",
       " [],\n",
       " [],\n",
       " [],\n",
       " [],\n",
       " [],\n",
       " [],\n",
       " [],\n",
       " [],\n",
       " [],\n",
       " [],\n",
       " [],\n",
       " [],\n",
       " [],\n",
       " [],\n",
       " [],\n",
       " [],\n",
       " [],\n",
       " [],\n",
       " [],\n",
       " [],\n",
       " [],\n",
       " [],\n",
       " [],\n",
       " [],\n",
       " [],\n",
       " [],\n",
       " [],\n",
       " [],\n",
       " [],\n",
       " [],\n",
       " [],\n",
       " [],\n",
       " [],\n",
       " [],\n",
       " [],\n",
       " [],\n",
       " [],\n",
       " [],\n",
       " [],\n",
       " [],\n",
       " [],\n",
       " [],\n",
       " [],\n",
       " [],\n",
       " [],\n",
       " [],\n",
       " [],\n",
       " [],\n",
       " [],\n",
       " [],\n",
       " [],\n",
       " [],\n",
       " [],\n",
       " [],\n",
       " [],\n",
       " [],\n",
       " [],\n",
       " [],\n",
       " [],\n",
       " [],\n",
       " [],\n",
       " [],\n",
       " [],\n",
       " [],\n",
       " [],\n",
       " [],\n",
       " [],\n",
       " [],\n",
       " [],\n",
       " [],\n",
       " [],\n",
       " [],\n",
       " [],\n",
       " [],\n",
       " [],\n",
       " [],\n",
       " [],\n",
       " [],\n",
       " [],\n",
       " [],\n",
       " [],\n",
       " [],\n",
       " [],\n",
       " [],\n",
       " [],\n",
       " [],\n",
       " [],\n",
       " [],\n",
       " [],\n",
       " [],\n",
       " [],\n",
       " [],\n",
       " [],\n",
       " [],\n",
       " [],\n",
       " [],\n",
       " [],\n",
       " [],\n",
       " [],\n",
       " [],\n",
       " [],\n",
       " [],\n",
       " [],\n",
       " [],\n",
       " [],\n",
       " [],\n",
       " [],\n",
       " [],\n",
       " [],\n",
       " [],\n",
       " [],\n",
       " [],\n",
       " [],\n",
       " [],\n",
       " [],\n",
       " [],\n",
       " [],\n",
       " [],\n",
       " [],\n",
       " [],\n",
       " [],\n",
       " [],\n",
       " [],\n",
       " [],\n",
       " [],\n",
       " [],\n",
       " [],\n",
       " [],\n",
       " [],\n",
       " [],\n",
       " [],\n",
       " [],\n",
       " [],\n",
       " [],\n",
       " [],\n",
       " [],\n",
       " [],\n",
       " [],\n",
       " [],\n",
       " [],\n",
       " [],\n",
       " [],\n",
       " [],\n",
       " [],\n",
       " [],\n",
       " [],\n",
       " [],\n",
       " [],\n",
       " [],\n",
       " [],\n",
       " [],\n",
       " [],\n",
       " [],\n",
       " [],\n",
       " [],\n",
       " [],\n",
       " [],\n",
       " [],\n",
       " [],\n",
       " [],\n",
       " [],\n",
       " [],\n",
       " [],\n",
       " [],\n",
       " [],\n",
       " [],\n",
       " [],\n",
       " [],\n",
       " [],\n",
       " [],\n",
       " [],\n",
       " [],\n",
       " [],\n",
       " [],\n",
       " [],\n",
       " [],\n",
       " [],\n",
       " [],\n",
       " [],\n",
       " [],\n",
       " [],\n",
       " [],\n",
       " [],\n",
       " [],\n",
       " [],\n",
       " [],\n",
       " [],\n",
       " [],\n",
       " [],\n",
       " [],\n",
       " [],\n",
       " [],\n",
       " [],\n",
       " [],\n",
       " [],\n",
       " [],\n",
       " [],\n",
       " [],\n",
       " [],\n",
       " [],\n",
       " [],\n",
       " [],\n",
       " [],\n",
       " [],\n",
       " [],\n",
       " [],\n",
       " [],\n",
       " [],\n",
       " [],\n",
       " [],\n",
       " [],\n",
       " [],\n",
       " [],\n",
       " [],\n",
       " [],\n",
       " [],\n",
       " [],\n",
       " [],\n",
       " [],\n",
       " [],\n",
       " [],\n",
       " [],\n",
       " [],\n",
       " [],\n",
       " [],\n",
       " [],\n",
       " [],\n",
       " [],\n",
       " [],\n",
       " [],\n",
       " [],\n",
       " [],\n",
       " [],\n",
       " [],\n",
       " [],\n",
       " [],\n",
       " [],\n",
       " [],\n",
       " [],\n",
       " [],\n",
       " [],\n",
       " [],\n",
       " [],\n",
       " [],\n",
       " [],\n",
       " [],\n",
       " [],\n",
       " [],\n",
       " [],\n",
       " [],\n",
       " [],\n",
       " [],\n",
       " [],\n",
       " [],\n",
       " [],\n",
       " [],\n",
       " [],\n",
       " [],\n",
       " [],\n",
       " [],\n",
       " [],\n",
       " [],\n",
       " [],\n",
       " [],\n",
       " [],\n",
       " [],\n",
       " [],\n",
       " [],\n",
       " [],\n",
       " [],\n",
       " [],\n",
       " [],\n",
       " [],\n",
       " [],\n",
       " [],\n",
       " [],\n",
       " [],\n",
       " [],\n",
       " [],\n",
       " [],\n",
       " [],\n",
       " [],\n",
       " [],\n",
       " [],\n",
       " [],\n",
       " [],\n",
       " [],\n",
       " [],\n",
       " [],\n",
       " [],\n",
       " [],\n",
       " [],\n",
       " [],\n",
       " [],\n",
       " [],\n",
       " [],\n",
       " [],\n",
       " [],\n",
       " [],\n",
       " [],\n",
       " [],\n",
       " [],\n",
       " [],\n",
       " [],\n",
       " [],\n",
       " [],\n",
       " [],\n",
       " [],\n",
       " [],\n",
       " [],\n",
       " [],\n",
       " [],\n",
       " [],\n",
       " [],\n",
       " [],\n",
       " [],\n",
       " [],\n",
       " [],\n",
       " [],\n",
       " [],\n",
       " [],\n",
       " [],\n",
       " [],\n",
       " [],\n",
       " [],\n",
       " [],\n",
       " [],\n",
       " [],\n",
       " [],\n",
       " [],\n",
       " [],\n",
       " [],\n",
       " [],\n",
       " [],\n",
       " [],\n",
       " [],\n",
       " [],\n",
       " [],\n",
       " [],\n",
       " [],\n",
       " [],\n",
       " [],\n",
       " [],\n",
       " [],\n",
       " [],\n",
       " [],\n",
       " [],\n",
       " [],\n",
       " ...]"
      ]
     },
     "execution_count": 274,
     "metadata": {},
     "output_type": "execute_result"
    }
   ],
   "source": [
    "x"
   ]
  },
  {
   "cell_type": "code",
   "execution_count": 277,
   "metadata": {},
   "outputs": [
    {
     "data": {
      "text/plain": [
       "7981"
      ]
     },
     "execution_count": 277,
     "metadata": {},
     "output_type": "execute_result"
    }
   ],
   "source": [
    "data.rates.isna().sum()"
   ]
  },
  {
   "cell_type": "code",
   "execution_count": 290,
   "metadata": {},
   "outputs": [
    {
     "data": {
      "text/plain": [
       "0        False\n",
       "1        False\n",
       "2        False\n",
       "3        False\n",
       "4        False\n",
       "         ...  \n",
       "41368    False\n",
       "41369    False\n",
       "41370    False\n",
       "41371    False\n",
       "41372    False\n",
       "Name: review_ratings, Length: 41373, dtype: bool"
      ]
     },
     "execution_count": 290,
     "metadata": {},
     "output_type": "execute_result"
    }
   ],
   "source": []
  },
  {
   "cell_type": "code",
   "execution_count": 280,
   "metadata": {},
   "outputs": [
    {
     "data": {
      "text/plain": [
       "8020"
      ]
     },
     "execution_count": 280,
     "metadata": {},
     "output_type": "execute_result"
    }
   ],
   "source": [
    "(data.votes==0).sum()"
   ]
  },
  {
   "cell_type": "code",
   "execution_count": 286,
   "metadata": {},
   "outputs": [
    {
     "ename": "TypeError",
     "evalue": "ufunc 'bitwise_and' not supported for the input types, and the inputs could not be safely coerced to any supported types according to the casting rule ''safe''",
     "output_type": "error",
     "traceback": [
      "\u001b[1;31m---------------------------------------------------------------------------\u001b[0m",
      "\u001b[1;31mTypeError\u001b[0m                                 Traceback (most recent call last)",
      "\u001b[1;32m<ipython-input-286-00220f253812>\u001b[0m in \u001b[0;36m<module>\u001b[1;34m\u001b[0m\n\u001b[0;32m      1\u001b[0m \u001b[1;32mfor\u001b[0m \u001b[0mi\u001b[0m \u001b[1;32min\u001b[0m \u001b[0mrange\u001b[0m\u001b[1;33m(\u001b[0m\u001b[0mlen\u001b[0m\u001b[1;33m(\u001b[0m\u001b[0mdata\u001b[0m\u001b[1;33m)\u001b[0m\u001b[1;33m)\u001b[0m\u001b[1;33m:\u001b[0m\u001b[1;33m\u001b[0m\u001b[1;33m\u001b[0m\u001b[0m\n\u001b[1;32m----> 2\u001b[1;33m     \u001b[1;32mif\u001b[0m\u001b[1;33m(\u001b[0m\u001b[0mdata\u001b[0m\u001b[1;33m.\u001b[0m\u001b[0mrates\u001b[0m\u001b[1;33m[\u001b[0m\u001b[0mi\u001b[0m\u001b[1;33m]\u001b[0m\u001b[1;33m==\u001b[0m\u001b[1;34m'NaN'\u001b[0m \u001b[1;33m&\u001b[0m \u001b[0mdata\u001b[0m\u001b[1;33m.\u001b[0m\u001b[0mreview_ratings\u001b[0m\u001b[1;33m[\u001b[0m\u001b[0mi\u001b[0m\u001b[1;33m]\u001b[0m\u001b[1;33m==\u001b[0m\u001b[1;34m'NaN'\u001b[0m \u001b[1;33m&\u001b[0m \u001b[0mdata\u001b[0m\u001b[1;33m.\u001b[0m\u001b[0mvotes\u001b[0m\u001b[1;33m==\u001b[0m\u001b[1;36m0\u001b[0m\u001b[1;33m)\u001b[0m\u001b[1;33m:\u001b[0m\u001b[1;33m\u001b[0m\u001b[1;33m\u001b[0m\u001b[0m\n\u001b[0m\u001b[0;32m      3\u001b[0m         \u001b[0mdata\u001b[0m\u001b[1;33m.\u001b[0m\u001b[0mdrop\u001b[0m\u001b[1;33m[\u001b[0m\u001b[0mdata\u001b[0m\u001b[1;33m.\u001b[0m\u001b[0mindex\u001b[0m\u001b[1;33m[\u001b[0m\u001b[0mi\u001b[0m\u001b[1;33m]\u001b[0m\u001b[1;33m]\u001b[0m\u001b[1;33m\u001b[0m\u001b[1;33m\u001b[0m\u001b[0m\n",
      "\u001b[1;31mTypeError\u001b[0m: ufunc 'bitwise_and' not supported for the input types, and the inputs could not be safely coerced to any supported types according to the casting rule ''safe''"
     ]
    }
   ],
   "source": [
    "for i in range(len(data)):\n",
    "    if(data.rates[i]=='NaN' & data.review_ratings[i]=='NaN' & data.votes==0):\n",
    "        data.drop[data.index[i]]"
   ]
  },
  {
   "cell_type": "code",
   "execution_count": 398,
   "metadata": {},
   "outputs": [
    {
     "data": {
      "text/plain": [
       "Index(['online_order', 'book_table', 'votes', 'approx_cost(for two people)',\n",
       "       'listed_in(type)', 'rates', 'review_ratings'],\n",
       "      dtype='object')"
      ]
     },
     "execution_count": 398,
     "metadata": {},
     "output_type": "execute_result"
    }
   ],
   "source": [
    "data1.columns"
   ]
  },
  {
   "cell_type": "code",
   "execution_count": 400,
   "metadata": {},
   "outputs": [
    {
     "data": {
      "text/plain": [
       "online_order                      0\n",
       "book_table                        0\n",
       "votes                             0\n",
       "approx_cost(for two people)     279\n",
       "listed_in(type)                   0\n",
       "rates                          7981\n",
       "review_ratings                 6045\n",
       "dtype: int64"
      ]
     },
     "execution_count": 400,
     "metadata": {},
     "output_type": "execute_result"
    }
   ],
   "source": [
    "data1.isna().sum()"
   ]
  },
  {
   "cell_type": "code",
   "execution_count": 407,
   "metadata": {},
   "outputs": [],
   "source": [
    "data1=data1.dropna(subset=['rates'])"
   ]
  },
  {
   "cell_type": "code",
   "execution_count": 420,
   "metadata": {},
   "outputs": [
    {
     "data": {
      "text/plain": [
       "Series([], Name: approx_cost(for two people), dtype: int64)"
      ]
     },
     "execution_count": 420,
     "metadata": {},
     "output_type": "execute_result"
    }
   ],
   "source": [
    "data1['approx_cost(for two people)'].value_counts()"
   ]
  },
  {
   "cell_type": "code",
   "execution_count": 418,
   "metadata": {},
   "outputs": [],
   "source": [
    "data1['approx_cost(for two people)']=data1['approx_cost(for two people)'].fillna(300,inplace=True)"
   ]
  },
  {
   "cell_type": "code",
   "execution_count": 419,
   "metadata": {},
   "outputs": [
    {
     "data": {
      "text/plain": [
       "online_order                       0\n",
       "book_table                         0\n",
       "votes                              0\n",
       "approx_cost(for two people)    33392\n",
       "listed_in(type)                    0\n",
       "rates                              0\n",
       "review_ratings                   930\n",
       "dtype: int64"
      ]
     },
     "execution_count": 419,
     "metadata": {},
     "output_type": "execute_result"
    }
   ],
   "source": [
    "data1.isna().sum()"
   ]
  },
  {
   "cell_type": "code",
   "execution_count": null,
   "metadata": {},
   "outputs": [],
   "source": []
  }
 ],
 "metadata": {
  "kernelspec": {
   "display_name": "Python 3",
   "language": "python",
   "name": "python3"
  },
  "language_info": {
   "codemirror_mode": {
    "name": "ipython",
    "version": 3
   },
   "file_extension": ".py",
   "mimetype": "text/x-python",
   "name": "python",
   "nbconvert_exporter": "python",
   "pygments_lexer": "ipython3",
   "version": "3.7.4"
  }
 },
 "nbformat": 4,
 "nbformat_minor": 2
}
