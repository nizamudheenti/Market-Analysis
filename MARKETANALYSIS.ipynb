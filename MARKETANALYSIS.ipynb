{
 "cells": [
  {
   "cell_type": "code",
   "execution_count": 1,
   "metadata": {},
   "outputs": [],
   "source": [
    "import pandas as pd\n",
    "import numpy as np\n",
    "import matplotlib.pyplot as plt\n",
    "import seaborn as sns\n",
    "from sklearn.preprocessing import LabelEncoder\n",
    "from sklearn.model_selection import train_test_split\n",
    "from sklearn.metrics import mean_squared_error\n",
    "from sklearn.linear_model import LinearRegression,SGDRegressor\n",
    "from sklearn.ensemble import RandomForestRegressor,GradientBoostingRegressor"
   ]
  },
  {
   "cell_type": "code",
   "execution_count": 2,
   "metadata": {},
   "outputs": [],
   "source": [
    "data=pd.read_csv('pinksheet.csv')"
   ]
  },
  {
   "cell_type": "code",
   "execution_count": 3,
   "metadata": {},
   "outputs": [
    {
     "data": {
      "text/html": [
       "<div>\n",
       "<style scoped>\n",
       "    .dataframe tbody tr th:only-of-type {\n",
       "        vertical-align: middle;\n",
       "    }\n",
       "\n",
       "    .dataframe tbody tr th {\n",
       "        vertical-align: top;\n",
       "    }\n",
       "\n",
       "    .dataframe thead th {\n",
       "        text-align: right;\n",
       "    }\n",
       "</style>\n",
       "<table border=\"1\" class=\"dataframe\">\n",
       "  <thead>\n",
       "    <tr style=\"text-align: right;\">\n",
       "      <th></th>\n",
       "      <th>Unnamed: 0</th>\n",
       "      <th>Crude oil, average</th>\n",
       "      <th>Crude oil, Brent</th>\n",
       "      <th>Crude oil, Dubai</th>\n",
       "      <th>Crude oil, WTI</th>\n",
       "      <th>Coal, Australian</th>\n",
       "      <th>Coal, South African</th>\n",
       "      <th>Natural gas, US</th>\n",
       "      <th>Natural gas, Europe</th>\n",
       "      <th>Liquefied natural gas, Japan</th>\n",
       "      <th>...</th>\n",
       "      <th>Coal, Colombian</th>\n",
       "      <th>Copra</th>\n",
       "      <th>Steel Index</th>\n",
       "      <th>Steel, cold rolled coilsheet</th>\n",
       "      <th>Steel, hot rolled coilsheet</th>\n",
       "      <th>Steel rebar</th>\n",
       "      <th>Steel wire rod</th>\n",
       "      <th>Cotton, Memphis</th>\n",
       "      <th>Rubber, US</th>\n",
       "      <th>Wheat, Canadian</th>\n",
       "    </tr>\n",
       "  </thead>\n",
       "  <tbody>\n",
       "    <tr>\n",
       "      <td>0</td>\n",
       "      <td>NaN</td>\n",
       "      <td>CRUDE_PETRO</td>\n",
       "      <td>CRUDE_BRENT</td>\n",
       "      <td>CRUDE_DUBAI</td>\n",
       "      <td>CRUDE_WTI</td>\n",
       "      <td>COAL_AUS</td>\n",
       "      <td>COAL_SAFRICA</td>\n",
       "      <td>NGAS_US</td>\n",
       "      <td>NGAS_EUR</td>\n",
       "      <td>NGAS_JP</td>\n",
       "      <td>...</td>\n",
       "      <td>COAL_COL</td>\n",
       "      <td>COPRA</td>\n",
       "      <td>iSTL_JP_INDX</td>\n",
       "      <td>STL_JP_CROLL</td>\n",
       "      <td>STL_JP_HROLL</td>\n",
       "      <td>STL_JP_REBAR</td>\n",
       "      <td>STL_JP_WIROD</td>\n",
       "      <td>COTTON_MEMPH</td>\n",
       "      <td>RUBBER1_US</td>\n",
       "      <td>WHEAT_CANADI</td>\n",
       "    </tr>\n",
       "    <tr>\n",
       "      <td>1</td>\n",
       "      <td>1960M01</td>\n",
       "      <td>1.63</td>\n",
       "      <td>..</td>\n",
       "      <td>1.63</td>\n",
       "      <td>..</td>\n",
       "      <td>..</td>\n",
       "      <td>..</td>\n",
       "      <td>0.14</td>\n",
       "      <td>0.4</td>\n",
       "      <td>..</td>\n",
       "      <td>...</td>\n",
       "      <td>..</td>\n",
       "      <td>257</td>\n",
       "      <td>..</td>\n",
       "      <td>..</td>\n",
       "      <td>..</td>\n",
       "      <td>..</td>\n",
       "      <td>..</td>\n",
       "      <td>..</td>\n",
       "      <td>..</td>\n",
       "      <td>64</td>\n",
       "    </tr>\n",
       "    <tr>\n",
       "      <td>2</td>\n",
       "      <td>1960M02</td>\n",
       "      <td>1.63</td>\n",
       "      <td>..</td>\n",
       "      <td>1.63</td>\n",
       "      <td>..</td>\n",
       "      <td>..</td>\n",
       "      <td>..</td>\n",
       "      <td>0.14</td>\n",
       "      <td>0.4</td>\n",
       "      <td>..</td>\n",
       "      <td>...</td>\n",
       "      <td>..</td>\n",
       "      <td>248</td>\n",
       "      <td>..</td>\n",
       "      <td>..</td>\n",
       "      <td>..</td>\n",
       "      <td>..</td>\n",
       "      <td>..</td>\n",
       "      <td>..</td>\n",
       "      <td>..</td>\n",
       "      <td>64.09</td>\n",
       "    </tr>\n",
       "    <tr>\n",
       "      <td>3</td>\n",
       "      <td>1960M03</td>\n",
       "      <td>1.63</td>\n",
       "      <td>..</td>\n",
       "      <td>1.63</td>\n",
       "      <td>..</td>\n",
       "      <td>..</td>\n",
       "      <td>..</td>\n",
       "      <td>0.14</td>\n",
       "      <td>0.4</td>\n",
       "      <td>..</td>\n",
       "      <td>...</td>\n",
       "      <td>..</td>\n",
       "      <td>236</td>\n",
       "      <td>..</td>\n",
       "      <td>..</td>\n",
       "      <td>..</td>\n",
       "      <td>..</td>\n",
       "      <td>..</td>\n",
       "      <td>..</td>\n",
       "      <td>..</td>\n",
       "      <td>63.76</td>\n",
       "    </tr>\n",
       "    <tr>\n",
       "      <td>4</td>\n",
       "      <td>1960M04</td>\n",
       "      <td>1.63</td>\n",
       "      <td>..</td>\n",
       "      <td>1.63</td>\n",
       "      <td>..</td>\n",
       "      <td>..</td>\n",
       "      <td>..</td>\n",
       "      <td>0.14</td>\n",
       "      <td>0.4</td>\n",
       "      <td>..</td>\n",
       "      <td>...</td>\n",
       "      <td>..</td>\n",
       "      <td>214</td>\n",
       "      <td>..</td>\n",
       "      <td>..</td>\n",
       "      <td>..</td>\n",
       "      <td>..</td>\n",
       "      <td>..</td>\n",
       "      <td>..</td>\n",
       "      <td>..</td>\n",
       "      <td>63.35</td>\n",
       "    </tr>\n",
       "    <tr>\n",
       "      <td>5</td>\n",
       "      <td>1960M05</td>\n",
       "      <td>1.63</td>\n",
       "      <td>..</td>\n",
       "      <td>1.63</td>\n",
       "      <td>..</td>\n",
       "      <td>..</td>\n",
       "      <td>..</td>\n",
       "      <td>0.14</td>\n",
       "      <td>0.4</td>\n",
       "      <td>..</td>\n",
       "      <td>...</td>\n",
       "      <td>..</td>\n",
       "      <td>206</td>\n",
       "      <td>..</td>\n",
       "      <td>..</td>\n",
       "      <td>..</td>\n",
       "      <td>..</td>\n",
       "      <td>..</td>\n",
       "      <td>..</td>\n",
       "      <td>..</td>\n",
       "      <td>63.11</td>\n",
       "    </tr>\n",
       "    <tr>\n",
       "      <td>6</td>\n",
       "      <td>1960M06</td>\n",
       "      <td>1.63</td>\n",
       "      <td>..</td>\n",
       "      <td>1.63</td>\n",
       "      <td>..</td>\n",
       "      <td>..</td>\n",
       "      <td>..</td>\n",
       "      <td>0.14</td>\n",
       "      <td>0.4</td>\n",
       "      <td>..</td>\n",
       "      <td>...</td>\n",
       "      <td>..</td>\n",
       "      <td>189</td>\n",
       "      <td>..</td>\n",
       "      <td>..</td>\n",
       "      <td>..</td>\n",
       "      <td>..</td>\n",
       "      <td>..</td>\n",
       "      <td>..</td>\n",
       "      <td>..</td>\n",
       "      <td>62.84</td>\n",
       "    </tr>\n",
       "    <tr>\n",
       "      <td>7</td>\n",
       "      <td>1960M07</td>\n",
       "      <td>1.63</td>\n",
       "      <td>..</td>\n",
       "      <td>1.63</td>\n",
       "      <td>..</td>\n",
       "      <td>..</td>\n",
       "      <td>..</td>\n",
       "      <td>0.14</td>\n",
       "      <td>0.4</td>\n",
       "      <td>..</td>\n",
       "      <td>...</td>\n",
       "      <td>..</td>\n",
       "      <td>189</td>\n",
       "      <td>..</td>\n",
       "      <td>..</td>\n",
       "      <td>..</td>\n",
       "      <td>..</td>\n",
       "      <td>..</td>\n",
       "      <td>..</td>\n",
       "      <td>..</td>\n",
       "      <td>62.72</td>\n",
       "    </tr>\n",
       "    <tr>\n",
       "      <td>8</td>\n",
       "      <td>1960M08</td>\n",
       "      <td>1.63</td>\n",
       "      <td>..</td>\n",
       "      <td>1.63</td>\n",
       "      <td>..</td>\n",
       "      <td>..</td>\n",
       "      <td>..</td>\n",
       "      <td>0.14</td>\n",
       "      <td>0.4</td>\n",
       "      <td>..</td>\n",
       "      <td>...</td>\n",
       "      <td>..</td>\n",
       "      <td>188</td>\n",
       "      <td>..</td>\n",
       "      <td>..</td>\n",
       "      <td>..</td>\n",
       "      <td>..</td>\n",
       "      <td>..</td>\n",
       "      <td>..</td>\n",
       "      <td>..</td>\n",
       "      <td>62.52</td>\n",
       "    </tr>\n",
       "    <tr>\n",
       "      <td>9</td>\n",
       "      <td>1960M09</td>\n",
       "      <td>1.63</td>\n",
       "      <td>..</td>\n",
       "      <td>1.63</td>\n",
       "      <td>..</td>\n",
       "      <td>..</td>\n",
       "      <td>..</td>\n",
       "      <td>0.14</td>\n",
       "      <td>0.4</td>\n",
       "      <td>..</td>\n",
       "      <td>...</td>\n",
       "      <td>..</td>\n",
       "      <td>173</td>\n",
       "      <td>..</td>\n",
       "      <td>..</td>\n",
       "      <td>..</td>\n",
       "      <td>..</td>\n",
       "      <td>..</td>\n",
       "      <td>..</td>\n",
       "      <td>..</td>\n",
       "      <td>62.34</td>\n",
       "    </tr>\n",
       "  </tbody>\n",
       "</table>\n",
       "<p>10 rows × 83 columns</p>\n",
       "</div>"
      ],
      "text/plain": [
       "  Unnamed: 0 Crude oil, average Crude oil, Brent Crude oil, Dubai  \\\n",
       "0        NaN        CRUDE_PETRO      CRUDE_BRENT      CRUDE_DUBAI   \n",
       "1    1960M01               1.63               ..             1.63   \n",
       "2    1960M02               1.63               ..             1.63   \n",
       "3    1960M03               1.63               ..             1.63   \n",
       "4    1960M04               1.63               ..             1.63   \n",
       "5    1960M05               1.63               ..             1.63   \n",
       "6    1960M06               1.63               ..             1.63   \n",
       "7    1960M07               1.63               ..             1.63   \n",
       "8    1960M08               1.63               ..             1.63   \n",
       "9    1960M09               1.63               ..             1.63   \n",
       "\n",
       "  Crude oil, WTI Coal, Australian Coal, South African Natural gas, US  \\\n",
       "0      CRUDE_WTI         COAL_AUS        COAL_SAFRICA         NGAS_US   \n",
       "1             ..               ..                  ..            0.14   \n",
       "2             ..               ..                  ..            0.14   \n",
       "3             ..               ..                  ..            0.14   \n",
       "4             ..               ..                  ..            0.14   \n",
       "5             ..               ..                  ..            0.14   \n",
       "6             ..               ..                  ..            0.14   \n",
       "7             ..               ..                  ..            0.14   \n",
       "8             ..               ..                  ..            0.14   \n",
       "9             ..               ..                  ..            0.14   \n",
       "\n",
       "  Natural gas, Europe Liquefied natural gas, Japan  ... Coal, Colombian  \\\n",
       "0            NGAS_EUR                      NGAS_JP  ...        COAL_COL   \n",
       "1                 0.4                           ..  ...              ..   \n",
       "2                 0.4                           ..  ...              ..   \n",
       "3                 0.4                           ..  ...              ..   \n",
       "4                 0.4                           ..  ...              ..   \n",
       "5                 0.4                           ..  ...              ..   \n",
       "6                 0.4                           ..  ...              ..   \n",
       "7                 0.4                           ..  ...              ..   \n",
       "8                 0.4                           ..  ...              ..   \n",
       "9                 0.4                           ..  ...              ..   \n",
       "\n",
       "   Copra   Steel Index Steel, cold rolled coilsheet  \\\n",
       "0  COPRA  iSTL_JP_INDX                 STL_JP_CROLL   \n",
       "1    257            ..                           ..   \n",
       "2    248            ..                           ..   \n",
       "3    236            ..                           ..   \n",
       "4    214            ..                           ..   \n",
       "5    206            ..                           ..   \n",
       "6    189            ..                           ..   \n",
       "7    189            ..                           ..   \n",
       "8    188            ..                           ..   \n",
       "9    173            ..                           ..   \n",
       "\n",
       "  Steel, hot rolled coilsheet   Steel rebar Steel wire rod Cotton, Memphis  \\\n",
       "0                STL_JP_HROLL  STL_JP_REBAR   STL_JP_WIROD    COTTON_MEMPH   \n",
       "1                          ..            ..             ..              ..   \n",
       "2                          ..            ..             ..              ..   \n",
       "3                          ..            ..             ..              ..   \n",
       "4                          ..            ..             ..              ..   \n",
       "5                          ..            ..             ..              ..   \n",
       "6                          ..            ..             ..              ..   \n",
       "7                          ..            ..             ..              ..   \n",
       "8                          ..            ..             ..              ..   \n",
       "9                          ..            ..             ..              ..   \n",
       "\n",
       "   Rubber, US Wheat, Canadian  \n",
       "0  RUBBER1_US    WHEAT_CANADI  \n",
       "1          ..              64  \n",
       "2          ..           64.09  \n",
       "3          ..           63.76  \n",
       "4          ..           63.35  \n",
       "5          ..           63.11  \n",
       "6          ..           62.84  \n",
       "7          ..           62.72  \n",
       "8          ..           62.52  \n",
       "9          ..           62.34  \n",
       "\n",
       "[10 rows x 83 columns]"
      ]
     },
     "execution_count": 3,
     "metadata": {},
     "output_type": "execute_result"
    }
   ],
   "source": [
    "data.head(10)"
   ]
  },
  {
   "cell_type": "code",
   "execution_count": 46,
   "metadata": {},
   "outputs": [
    {
     "data": {
      "text/html": [
       "<div>\n",
       "<style scoped>\n",
       "    .dataframe tbody tr th:only-of-type {\n",
       "        vertical-align: middle;\n",
       "    }\n",
       "\n",
       "    .dataframe tbody tr th {\n",
       "        vertical-align: top;\n",
       "    }\n",
       "\n",
       "    .dataframe thead th {\n",
       "        text-align: right;\n",
       "    }\n",
       "</style>\n",
       "<table border=\"1\" class=\"dataframe\">\n",
       "  <thead>\n",
       "    <tr style=\"text-align: right;\">\n",
       "      <th></th>\n",
       "      <th>date</th>\n",
       "      <th>cocoa</th>\n",
       "    </tr>\n",
       "  </thead>\n",
       "  <tbody>\n",
       "    <tr>\n",
       "      <td>1</td>\n",
       "      <td>1960-01-01</td>\n",
       "      <td>0.63</td>\n",
       "    </tr>\n",
       "    <tr>\n",
       "      <td>2</td>\n",
       "      <td>1960-02-01</td>\n",
       "      <td>0.61</td>\n",
       "    </tr>\n",
       "    <tr>\n",
       "      <td>3</td>\n",
       "      <td>1960-03-01</td>\n",
       "      <td>0.58</td>\n",
       "    </tr>\n",
       "    <tr>\n",
       "      <td>4</td>\n",
       "      <td>1960-04-01</td>\n",
       "      <td>0.6</td>\n",
       "    </tr>\n",
       "    <tr>\n",
       "      <td>5</td>\n",
       "      <td>1960-05-01</td>\n",
       "      <td>0.6</td>\n",
       "    </tr>\n",
       "    <tr>\n",
       "      <td>6</td>\n",
       "      <td>1960-06-01</td>\n",
       "      <td>0.59</td>\n",
       "    </tr>\n",
       "    <tr>\n",
       "      <td>7</td>\n",
       "      <td>1960-07-01</td>\n",
       "      <td>0.6</td>\n",
       "    </tr>\n",
       "    <tr>\n",
       "      <td>8</td>\n",
       "      <td>1960-08-01</td>\n",
       "      <td>0.59</td>\n",
       "    </tr>\n",
       "    <tr>\n",
       "      <td>9</td>\n",
       "      <td>1960-09-01</td>\n",
       "      <td>0.58</td>\n",
       "    </tr>\n",
       "    <tr>\n",
       "      <td>10</td>\n",
       "      <td>1960-10-01</td>\n",
       "      <td>0.59</td>\n",
       "    </tr>\n",
       "  </tbody>\n",
       "</table>\n",
       "</div>"
      ],
      "text/plain": [
       "         date cocoa\n",
       "1  1960-01-01  0.63\n",
       "2  1960-02-01  0.61\n",
       "3  1960-03-01  0.58\n",
       "4  1960-04-01   0.6\n",
       "5  1960-05-01   0.6\n",
       "6  1960-06-01  0.59\n",
       "7  1960-07-01   0.6\n",
       "8  1960-08-01  0.59\n",
       "9  1960-09-01  0.58\n",
       "10 1960-10-01  0.59"
      ]
     },
     "execution_count": 46,
     "metadata": {},
     "output_type": "execute_result"
    }
   ],
   "source": [
    "data1=data[1:721]\n",
    "data2=data1[['Unnamed: 0','Cocoa']]\n",
    "data2=data2.rename(columns={\"Unnamed: 0\":\"date\",\n",
    "                           \"Cocoa\":\"cocoa\"})\n",
    "data2['date']=data2['date'].str.replace(\"M\",\"-\")\n",
    "data2['date']=pd.to_datetime(data2.date,format='%Y-%m')\n",
    "data2.head(10)"
   ]
  },
  {
   "cell_type": "code",
   "execution_count": 47,
   "metadata": {},
   "outputs": [
    {
     "data": {
      "image/png": "[encoded data removed]",
      "text/plain": [
       "<Figure size 1440x720 with 1 Axes>"
      ]
     },
     "metadata": {
      "needs_background": "light"
     },
     "output_type": "display_data"
    }
   ],
   "source": [
    "plt.figure(figsize=[20,10])\n",
    "sns.scatterplot(data=data2[650:],x='date',y='cocoa')\n",
    "plt.xlabel(\"YEAR\")\n",
    "plt.ylabel('PRICE)')\n",
    "plt.show()"
   ]
  },
  {
   "cell_type": "code",
   "execution_count": null,
   "metadata": {},
   "outputs": [],
   "source": []
  },
  {
   "cell_type": "code",
   "execution_count": 11,
   "metadata": {},
   "outputs": [],
   "source": [
    "x=np.asmatrix(data2['date']).reshape(-1,1)\n",
    "y=np.asmatrix(data2['cocoa']).reshape(-1,1)"
   ]
  },
  {
   "cell_type": "code",
   "execution_count": 12,
   "metadata": {},
   "outputs": [],
   "source": [
    "x_train,x_test,y_train,y_test=train_test_split(x,y,test_size=0.2)"
   ]
  },
  {
   "cell_type": "code",
   "execution_count": 13,
   "metadata": {},
   "outputs": [
    {
     "data": {
      "text/plain": [
       "0.5579670049690996"
      ]
     },
     "execution_count": 13,
     "metadata": {},
     "output_type": "execute_result"
    }
   ],
   "source": [
    "lr=LinearRegression()\n",
    "pre=lr.fit(x_train,y_train)\n",
    "pred_lr=lr.predict(x_test)\n",
    "mean_squared_error(y_test,pred_lr)"
   ]
  },
  {
   "cell_type": "code",
   "execution_count": 14,
   "metadata": {},
   "outputs": [
    {
     "name": "stderr",
     "output_type": "stream",
     "text": [
      "C:\\Users\\lenovo\\Anaconda3\\lib\\site-packages\\ipykernel_launcher.py:2: DataConversionWarning: A column-vector y was passed when a 1d array was expected. Please change the shape of y to (n_samples,), for example using ravel().\n",
      "  \n"
     ]
    },
    {
     "data": {
      "text/plain": [
       "0.015512848746674714"
      ]
     },
     "execution_count": 14,
     "metadata": {},
     "output_type": "execute_result"
    }
   ],
   "source": [
    "rfr=RandomForestRegressor(n_estimators=250,max_depth=8,random_state=1111)\n",
    "rfr.fit(x_train,y_train)\n",
    "pred_rfr=rfr.predict(x_test)\n",
    "mean_squared_error(pred_rfr,y_test)"
   ]
  },
  {
   "cell_type": "code",
   "execution_count": 15,
   "metadata": {},
   "outputs": [
    {
     "data": {
      "text/plain": [
       "(576, 1)"
      ]
     },
     "execution_count": 15,
     "metadata": {},
     "output_type": "execute_result"
    }
   ],
   "source": [
    "x_train.shape"
   ]
  },
  {
   "cell_type": "code",
   "execution_count": 16,
   "metadata": {},
   "outputs": [
    {
     "name": "stderr",
     "output_type": "stream",
     "text": [
      "Using TensorFlow backend.\n"
     ]
    }
   ],
   "source": [
    "from keras.models import Sequential\n",
    "from keras.layers import LSTM\n",
    "from keras.layers import Dense\n",
    "from keras.layers import Dropout\n",
    "from keras.layers import Activation"
   ]
  },
  {
   "cell_type": "code",
   "execution_count": 29,
   "metadata": {},
   "outputs": [
    {
     "data": {
      "text/plain": [
       "LinearRegression(copy_X=True, fit_intercept=True, n_jobs=None, normalize=False)"
      ]
     },
     "execution_count": 29,
     "metadata": {},
     "output_type": "execute_result"
    }
   ],
   "source": [
    "from sklearn.linear_model import LinearRegression\n",
    "lr=LinearRegression()\n",
    "lr.fit(np.asmatrix(data2['date']).reshape(-1,1),np.asmatrix(data2['cocoa']).reshape(-1,1))"
   ]
  },
  {
   "cell_type": "code",
   "execution_count": 40,
   "metadata": {},
   "outputs": [],
   "source": [
    "data3=[731]\n",
    "pre=lr.predict(np.asmatrix(data3).reshape(-1,1))\n",
    "from sklearn.metrics import mean_squared_error"
   ]
  },
  {
   "cell_type": "code",
   "execution_count": 54,
   "metadata": {},
   "outputs": [
    {
     "data": {
      "text/plain": [
       "651   2014-03-01\n",
       "652   2014-04-01\n",
       "653   2014-05-01\n",
       "654   2014-06-01\n",
       "655   2014-07-01\n",
       "         ...    \n",
       "716   2019-08-01\n",
       "717   2019-09-01\n",
       "718   2019-10-01\n",
       "719   2019-11-01\n",
       "720   2019-12-01\n",
       "Name: date, Length: 70, dtype: datetime64[ns]"
      ]
     },
     "execution_count": 54,
     "metadata": {},
     "output_type": "execute_result"
    }
   ],
   "source": [
    "data2['date'][650:]"
   ]
  },
  {
   "cell_type": "code",
   "execution_count": null,
   "metadata": {},
   "outputs": [],
   "source": []
  }
 ],
 "metadata": {
  "kernelspec": {
   "display_name": "Python 3",
   "language": "python",
   "name": "python3"
  },
  "language_info": {
   "codemirror_mode": {
    "name": "ipython",
    "version": 3
   },
   "file_extension": ".py",
   "mimetype": "text/x-python",
   "name": "python",
   "nbconvert_exporter": "python",
   "pygments_lexer": "ipython3",
   "version": "3.7.4"
  }
 },
 "nbformat": 4,
 "nbformat_minor": 4
}
